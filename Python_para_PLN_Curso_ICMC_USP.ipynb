{
  "nbformat": 4,
  "nbformat_minor": 0,
  "metadata": {
    "colab": {
      "name": "Python para PLN - Curso ICMC USP.ipynb",
      "provenance": [],
      "mount_file_id": "1e20GC11gX7gFaLbIh2QqPWJ_8WLoRAt4",
      "authorship_tag": "ABX9TyOoYU8vW2Vh8hzSB8tvHRuI",
      "include_colab_link": true
    },
    "kernelspec": {
      "name": "python3",
      "display_name": "Python 3"
    },
    "language_info": {
      "name": "python"
    }
  },
  "cells": [
    {
      "cell_type": "markdown",
      "metadata": {
        "id": "view-in-github",
        "colab_type": "text"
      },
      "source": [
        "<a href=\"https://colab.research.google.com/github/silviacolella/python-practices/blob/main/Python_para_PLN_Curso_ICMC_USP.ipynb\" target=\"_parent\"><img src=\"https://colab.research.google.com/assets/colab-badge.svg\" alt=\"Open In Colab\"/></a>"
      ]
    },
    {
      "cell_type": "markdown",
      "metadata": {
        "id": "w9IndiWmWh42"
      },
      "source": [
        "# Curso: Python para Processamento de Linguagem Natural - ICMC USP\n",
        "\n",
        "Link para o curso: https://cursosextensao.usp.br/course/view.php?id=2721"
      ]
    },
    {
      "cell_type": "markdown",
      "metadata": {
        "id": "CjruNf5DYJeo"
      },
      "source": [
        "## Lista de Exercícios 01"
      ]
    },
    {
      "cell_type": "markdown",
      "metadata": {
        "id": "ik75FZmiYffp"
      },
      "source": [
        "### Exercício 01: Crie três variáveis e atribua os valores a seguir: a=1, b=5.9 e c=‘teste’. A partir disso, retorne o tipo de cada uma das variáveis."
      ]
    },
    {
      "cell_type": "code",
      "metadata": {
        "colab": {
          "base_uri": "https://localhost:8080/"
        },
        "id": "apr9YqUxVVg6",
        "outputId": "7aaac405-2496-4c24-8f16-4cf8889be013"
      },
      "source": [
        "a = 1\n",
        "b = 5.9\n",
        "c = 'teste'\n",
        "\n",
        "print(\"O tipo de a:\", type(a))\n",
        "print(\"O tipo de b:\", type(b))\n",
        "print(\"O tipo de c:\", type(c))"
      ],
      "execution_count": null,
      "outputs": [
        {
          "output_type": "stream",
          "name": "stdout",
          "text": [
            "O tipo de a: <class 'int'>\n",
            "O tipo de b: <class 'float'>\n",
            "O tipo de c: <class 'str'>\n"
          ]
        }
      ]
    },
    {
      "cell_type": "markdown",
      "metadata": {
        "id": "1o6Fl39Day5p"
      },
      "source": [
        "###Exercício 02: Troque o valor da variável a por ‘1’ e verifique se o tipo da variável mudou."
      ]
    },
    {
      "cell_type": "code",
      "metadata": {
        "colab": {
          "base_uri": "https://localhost:8080/"
        },
        "id": "Rdiqdt1QapN1",
        "outputId": "d56d1c4f-14c8-4720-dfdf-cacc07588946"
      },
      "source": [
        "a = '1'\n",
        "\n",
        "print(\"O tipo de a:\", type(a))"
      ],
      "execution_count": null,
      "outputs": [
        {
          "output_type": "stream",
          "name": "stdout",
          "text": [
            "O tipo de a: <class 'str'>\n"
          ]
        }
      ]
    },
    {
      "cell_type": "markdown",
      "metadata": {
        "id": "9IOzfaFAbA-f"
      },
      "source": [
        "###Exercício 03: Faça a soma da variável b com a variável c. Interprete a saída, tanto em caso de execução correta quanto em caso de execução com erro."
      ]
    },
    {
      "cell_type": "code",
      "metadata": {
        "colab": {
          "base_uri": "https://localhost:8080/",
          "height": 167
        },
        "id": "RtVbyTKYa-Ys",
        "outputId": "ed0b0384-8937-4b3b-e822-c23dcb5f434d"
      },
      "source": [
        "b + c"
      ],
      "execution_count": null,
      "outputs": [
        {
          "output_type": "error",
          "ename": "TypeError",
          "evalue": "ignored",
          "traceback": [
            "\u001b[0;31m---------------------------------------------------------------------------\u001b[0m",
            "\u001b[0;31mTypeError\u001b[0m                                 Traceback (most recent call last)",
            "\u001b[0;32m<ipython-input-5-32e611a3909a>\u001b[0m in \u001b[0;36m<module>\u001b[0;34m()\u001b[0m\n\u001b[0;32m----> 1\u001b[0;31m \u001b[0mb\u001b[0m \u001b[0;34m+\u001b[0m \u001b[0mc\u001b[0m\u001b[0;34m\u001b[0m\u001b[0;34m\u001b[0m\u001b[0m\n\u001b[0m",
            "\u001b[0;31mTypeError\u001b[0m: unsupported operand type(s) for +: 'float' and 'str'"
          ]
        }
      ]
    },
    {
      "cell_type": "markdown",
      "metadata": {
        "id": "tzia0BoFbduo"
      },
      "source": [
        "O tipo b é float, o tipo c é string - a linguagem Python não consegue somar ou concatenar dois tipos diferentes"
      ]
    },
    {
      "cell_type": "markdown",
      "metadata": {
        "id": "LN62we9Gbp6S"
      },
      "source": [
        "###Exercício 04: Crie uma lista com números de 0 a 9 (em qualquer ordem). Com ela, faça:\n",
        "- Adicione o número 6\n",
        "- Insira o número 7 na 3ª posição da lista\n",
        "- Remova o elemento 3 da lista\n",
        "- Adicione o número 4\n",
        "- Verifique o número de ocorrências do número 4 na lista"
      ]
    },
    {
      "cell_type": "code",
      "metadata": {
        "colab": {
          "base_uri": "https://localhost:8080/"
        },
        "id": "MunWiSOBbcfk",
        "outputId": "f7ada017-a1db-4416-824a-3ea31114e854"
      },
      "source": [
        "minha_lista = list(range(10))\n",
        "minha_lista"
      ],
      "execution_count": null,
      "outputs": [
        {
          "output_type": "execute_result",
          "data": {
            "text/plain": [
              "[0, 1, 2, 3, 4, 5, 6, 7, 8, 9]"
            ]
          },
          "metadata": {},
          "execution_count": 6
        }
      ]
    },
    {
      "cell_type": "code",
      "metadata": {
        "colab": {
          "base_uri": "https://localhost:8080/"
        },
        "id": "VpXSpB60b7Q3",
        "outputId": "bf132b8f-aae9-4feb-d391-70a35f5425a0"
      },
      "source": [
        "minha_lista.append(6)\n",
        "minha_lista"
      ],
      "execution_count": null,
      "outputs": [
        {
          "output_type": "execute_result",
          "data": {
            "text/plain": [
              "[0, 1, 2, 3, 4, 5, 6, 7, 8, 9, 6]"
            ]
          },
          "metadata": {},
          "execution_count": 7
        }
      ]
    },
    {
      "cell_type": "code",
      "metadata": {
        "colab": {
          "base_uri": "https://localhost:8080/"
        },
        "id": "B6fFaqIVcICl",
        "outputId": "37baf94f-9acf-4b53-c5d1-114504df1a9c"
      },
      "source": [
        "minha_lista[2] = 7\n",
        "minha_lista"
      ],
      "execution_count": null,
      "outputs": [
        {
          "output_type": "execute_result",
          "data": {
            "text/plain": [
              "[0, 1, 7, 3, 4, 5, 6, 7, 8, 9, 6]"
            ]
          },
          "metadata": {},
          "execution_count": 8
        }
      ]
    },
    {
      "cell_type": "code",
      "metadata": {
        "colab": {
          "base_uri": "https://localhost:8080/"
        },
        "id": "gzXfNFGVcMXt",
        "outputId": "18242572-df98-4f3c-e89e-348a4a0e392c"
      },
      "source": [
        "minha_lista.remove(3)\n",
        "minha_lista"
      ],
      "execution_count": null,
      "outputs": [
        {
          "output_type": "execute_result",
          "data": {
            "text/plain": [
              "[0, 1, 7, 4, 5, 6, 7, 8, 9, 6]"
            ]
          },
          "metadata": {},
          "execution_count": 9
        }
      ]
    },
    {
      "cell_type": "code",
      "metadata": {
        "colab": {
          "base_uri": "https://localhost:8080/"
        },
        "id": "_p0Vz30TcUEb",
        "outputId": "cb45a7dc-b5fd-47c4-9625-4221175d6e8a"
      },
      "source": [
        "minha_lista.append(4)\n",
        "minha_lista"
      ],
      "execution_count": null,
      "outputs": [
        {
          "output_type": "execute_result",
          "data": {
            "text/plain": [
              "[0, 1, 7, 4, 5, 6, 7, 8, 9, 6, 4]"
            ]
          },
          "metadata": {},
          "execution_count": 10
        }
      ]
    },
    {
      "cell_type": "code",
      "metadata": {
        "colab": {
          "base_uri": "https://localhost:8080/"
        },
        "id": "t_qefcSrcadV",
        "outputId": "603145f3-6ada-4458-8a8f-723e860c4a5b"
      },
      "source": [
        "minha_lista.count(4)"
      ],
      "execution_count": null,
      "outputs": [
        {
          "output_type": "execute_result",
          "data": {
            "text/plain": [
              "2"
            ]
          },
          "metadata": {},
          "execution_count": 11
        }
      ]
    },
    {
      "cell_type": "markdown",
      "metadata": {
        "id": "hhjSQ5f0ciLK"
      },
      "source": [
        "###Exercício 05: Ainda com a lista criada na questão anterior, faça:\n",
        "- Retorne os primeiros 3 elementos da lista\n",
        "- Retorne os elementos que estão da 3ª posição até a 7ª posição da lista\n",
        "- Retorne os elementos da lista de 3 em 3 elementos\n",
        "- Retorne os 3 últimos elementos da lista\n",
        "- Retorne todos os elementos menos os 4 últimos da lista"
      ]
    },
    {
      "cell_type": "code",
      "metadata": {
        "colab": {
          "base_uri": "https://localhost:8080/"
        },
        "id": "pGGVkD6wchLN",
        "outputId": "3fc13303-3b46-4de2-92ad-aa4ffa679b1f"
      },
      "source": [
        "minha_lista[:3]"
      ],
      "execution_count": null,
      "outputs": [
        {
          "output_type": "execute_result",
          "data": {
            "text/plain": [
              "[0, 1, 7]"
            ]
          },
          "metadata": {},
          "execution_count": 12
        }
      ]
    },
    {
      "cell_type": "code",
      "metadata": {
        "colab": {
          "base_uri": "https://localhost:8080/"
        },
        "id": "TFf-C6b7cxop",
        "outputId": "24451e5b-5609-473a-90e3-eb4f3b21c3e3"
      },
      "source": [
        "minha_lista[2:7]"
      ],
      "execution_count": null,
      "outputs": [
        {
          "output_type": "execute_result",
          "data": {
            "text/plain": [
              "[7, 4, 5, 6, 7]"
            ]
          },
          "metadata": {},
          "execution_count": 14
        }
      ]
    },
    {
      "cell_type": "code",
      "metadata": {
        "colab": {
          "base_uri": "https://localhost:8080/"
        },
        "id": "prHSnc8cc4Rs",
        "outputId": "ca7f1c70-7514-4745-d963-5fe50808130c"
      },
      "source": [
        "minha_lista[::3]"
      ],
      "execution_count": null,
      "outputs": [
        {
          "output_type": "execute_result",
          "data": {
            "text/plain": [
              "[0, 4, 7, 6]"
            ]
          },
          "metadata": {},
          "execution_count": 15
        }
      ]
    },
    {
      "cell_type": "code",
      "metadata": {
        "colab": {
          "base_uri": "https://localhost:8080/"
        },
        "id": "6swJx2iFdGqD",
        "outputId": "e59c43e0-aa25-4f12-96b8-6bcd619fce99"
      },
      "source": [
        "minha_lista[-3:]"
      ],
      "execution_count": null,
      "outputs": [
        {
          "output_type": "execute_result",
          "data": {
            "text/plain": [
              "[9, 6, 4]"
            ]
          },
          "metadata": {},
          "execution_count": 17
        }
      ]
    },
    {
      "cell_type": "code",
      "metadata": {
        "colab": {
          "base_uri": "https://localhost:8080/"
        },
        "id": "nZtDpGJ8dRGK",
        "outputId": "289cca41-6fea-4fb5-b22a-be2549fc4208"
      },
      "source": [
        "minha_lista[:-4]"
      ],
      "execution_count": null,
      "outputs": [
        {
          "output_type": "execute_result",
          "data": {
            "text/plain": [
              "[0, 1, 7, 4, 5, 6, 7]"
            ]
          },
          "metadata": {},
          "execution_count": 18
        }
      ]
    },
    {
      "cell_type": "markdown",
      "metadata": {
        "id": "Yc_dFiG4dj0a"
      },
      "source": [
        "###Exercício 06: Com a lista das questões anteriores, retorne o 6º elemento da lista."
      ]
    },
    {
      "cell_type": "code",
      "metadata": {
        "colab": {
          "base_uri": "https://localhost:8080/"
        },
        "id": "JX2rkAVbdeSR",
        "outputId": "c47f3beb-6d9d-44d6-fd33-aee828b0be5d"
      },
      "source": [
        "minha_lista[5]"
      ],
      "execution_count": null,
      "outputs": [
        {
          "output_type": "execute_result",
          "data": {
            "text/plain": [
              "6"
            ]
          },
          "metadata": {},
          "execution_count": 19
        }
      ]
    },
    {
      "cell_type": "markdown",
      "metadata": {
        "id": "8vxRoL2pdzib"
      },
      "source": [
        "###Exercício 07: Altere o valor do 7º elemento da lista para o valor 12."
      ]
    },
    {
      "cell_type": "code",
      "metadata": {
        "colab": {
          "base_uri": "https://localhost:8080/"
        },
        "id": "MEzz4FG1dsJx",
        "outputId": "19eaeb46-599f-44eb-f7d4-8f1aa1223c67"
      },
      "source": [
        "minha_lista[6] = 12\n",
        "minha_lista"
      ],
      "execution_count": null,
      "outputs": [
        {
          "output_type": "execute_result",
          "data": {
            "text/plain": [
              "[0, 1, 7, 4, 5, 6, 12, 8, 9, 6, 4]"
            ]
          },
          "metadata": {},
          "execution_count": 20
        }
      ]
    },
    {
      "cell_type": "markdown",
      "metadata": {
        "id": "cKatV00Td_F-"
      },
      "source": [
        "###Exercício 08: Inverta a ordem dos elementos na lista."
      ]
    },
    {
      "cell_type": "code",
      "metadata": {
        "colab": {
          "base_uri": "https://localhost:8080/"
        },
        "id": "GjfHqKpkd7C1",
        "outputId": "82452846-5aec-4a71-d698-57bbd9aafe4a"
      },
      "source": [
        "minha_lista.reverse()\n",
        "minha_lista"
      ],
      "execution_count": null,
      "outputs": [
        {
          "output_type": "execute_result",
          "data": {
            "text/plain": [
              "[4, 6, 9, 8, 12, 6, 5, 4, 7, 1, 0]"
            ]
          },
          "metadata": {},
          "execution_count": 23
        }
      ]
    },
    {
      "cell_type": "markdown",
      "metadata": {
        "id": "nP7NzFITeJ0s"
      },
      "source": [
        "###Exercicio 09: Ordene a lista."
      ]
    },
    {
      "cell_type": "code",
      "metadata": {
        "colab": {
          "base_uri": "https://localhost:8080/"
        },
        "id": "pEx9l70PeF1Z",
        "outputId": "040a526c-4d48-4270-b885-8857de2f335c"
      },
      "source": [
        "minha_lista.sort()\n",
        "minha_lista"
      ],
      "execution_count": null,
      "outputs": [
        {
          "output_type": "execute_result",
          "data": {
            "text/plain": [
              "[0, 1, 4, 4, 5, 6, 6, 7, 8, 9, 12]"
            ]
          },
          "metadata": {},
          "execution_count": 25
        }
      ]
    },
    {
      "cell_type": "markdown",
      "metadata": {
        "id": "Z88oUnuoeTrl"
      },
      "source": [
        "###Exercício 10: Crie uma tupla com números de 0 a 9 (em qualquer ordem) e tente:\n",
        "- Alterar o valor do 3º elemento da tupla para o valor 10\n",
        "- Verificar o índice (posição) do valor 5 na tupla"
      ]
    },
    {
      "cell_type": "code",
      "metadata": {
        "colab": {
          "base_uri": "https://localhost:8080/"
        },
        "id": "P_sAjHRceRDn",
        "outputId": "d41d03f4-f53c-40d1-a513-d94f438e8118"
      },
      "source": [
        "minha_tupla = (0,2,4,6,8,1,3,5,7,9)\n",
        "minha_tupla"
      ],
      "execution_count": null,
      "outputs": [
        {
          "output_type": "execute_result",
          "data": {
            "text/plain": [
              "(0, 2, 4, 6, 8, 1, 3, 5, 7, 9)"
            ]
          },
          "metadata": {},
          "execution_count": 30
        }
      ]
    },
    {
      "cell_type": "code",
      "metadata": {
        "colab": {
          "base_uri": "https://localhost:8080/",
          "height": 167
        },
        "id": "-5LqyB9Mejdh",
        "outputId": "cf8a983a-0537-4dbd-fc8a-d3f11eff64ae"
      },
      "source": [
        "minha_tupla[2] = 10"
      ],
      "execution_count": null,
      "outputs": [
        {
          "output_type": "error",
          "ename": "TypeError",
          "evalue": "ignored",
          "traceback": [
            "\u001b[0;31m---------------------------------------------------------------------------\u001b[0m",
            "\u001b[0;31mTypeError\u001b[0m                                 Traceback (most recent call last)",
            "\u001b[0;32m<ipython-input-31-2da3cd600dbd>\u001b[0m in \u001b[0;36m<module>\u001b[0;34m()\u001b[0m\n\u001b[0;32m----> 1\u001b[0;31m \u001b[0mminha_tupla\u001b[0m\u001b[0;34m[\u001b[0m\u001b[0;36m2\u001b[0m\u001b[0;34m]\u001b[0m \u001b[0;34m=\u001b[0m \u001b[0;36m10\u001b[0m\u001b[0;34m\u001b[0m\u001b[0;34m\u001b[0m\u001b[0m\n\u001b[0m",
            "\u001b[0;31mTypeError\u001b[0m: 'tuple' object does not support item assignment"
          ]
        }
      ]
    },
    {
      "cell_type": "markdown",
      "metadata": {
        "id": "pjZtCRduevzU"
      },
      "source": [
        "Tuplas são imutáveis, então não foi possível alterar o valor"
      ]
    },
    {
      "cell_type": "code",
      "metadata": {
        "colab": {
          "base_uri": "https://localhost:8080/"
        },
        "id": "N7ki5_yseulv",
        "outputId": "147a8c2e-1e3b-416a-baec-119abbf3315b"
      },
      "source": [
        "minha_tupla.index(5)"
      ],
      "execution_count": null,
      "outputs": [
        {
          "output_type": "execute_result",
          "data": {
            "text/plain": [
              "7"
            ]
          },
          "metadata": {},
          "execution_count": 32
        }
      ]
    },
    {
      "cell_type": "markdown",
      "metadata": {
        "id": "Mkf2pedEfGVX"
      },
      "source": [
        "###Exercício 11: Crie um dicionário com 5 entradas e suas respectivas chaves e valores. Faça:\n",
        "- Imprima todas as chaves do dicionário\n",
        "- Imprima todos os valores do dicionário\n",
        "- Imprima todos os itens do dicionário\n",
        "- Imprima o 2º item do dicionário\n",
        "- Imprima o dicionário completo\n",
        "- Percorra o dicionário, imprimindo para cada entrada o modelo “(chave)\n",
        "tem como valor (valor)”"
      ]
    },
    {
      "cell_type": "code",
      "metadata": {
        "colab": {
          "base_uri": "https://localhost:8080/"
        },
        "id": "pmScTyo_e3hH",
        "outputId": "c55b62dd-47a6-430a-b054-d85bc70a340c"
      },
      "source": [
        "meu_dicionario = {'a':1,'b':2,'c':3,'d':4,'e':5}\n",
        "meu_dicionario"
      ],
      "execution_count": null,
      "outputs": [
        {
          "output_type": "execute_result",
          "data": {
            "text/plain": [
              "{'a': 1, 'b': 2, 'c': 3, 'd': 4, 'e': 5}"
            ]
          },
          "metadata": {},
          "execution_count": 34
        }
      ]
    },
    {
      "cell_type": "code",
      "metadata": {
        "colab": {
          "base_uri": "https://localhost:8080/"
        },
        "id": "cfZwOtLWfYEO",
        "outputId": "dbb317b0-530b-4c2e-c11d-75349bd73412"
      },
      "source": [
        "meu_dicionario.keys()"
      ],
      "execution_count": null,
      "outputs": [
        {
          "output_type": "execute_result",
          "data": {
            "text/plain": [
              "dict_keys(['a', 'b', 'c', 'd', 'e'])"
            ]
          },
          "metadata": {},
          "execution_count": 36
        }
      ]
    },
    {
      "cell_type": "code",
      "metadata": {
        "colab": {
          "base_uri": "https://localhost:8080/"
        },
        "id": "4aFOnAzSfgLa",
        "outputId": "0c60e9fa-e384-4a84-b6ec-9c91c5b36553"
      },
      "source": [
        "meu_dicionario.values()"
      ],
      "execution_count": null,
      "outputs": [
        {
          "output_type": "execute_result",
          "data": {
            "text/plain": [
              "dict_values([1, 2, 3, 4, 5])"
            ]
          },
          "metadata": {},
          "execution_count": 37
        }
      ]
    },
    {
      "cell_type": "code",
      "metadata": {
        "colab": {
          "base_uri": "https://localhost:8080/"
        },
        "id": "H3iN5L26fjDD",
        "outputId": "ca992b3b-300c-4f84-cf38-401eed6904fd"
      },
      "source": [
        "meu_dicionario.items()"
      ],
      "execution_count": null,
      "outputs": [
        {
          "output_type": "execute_result",
          "data": {
            "text/plain": [
              "dict_items([('a', 1), ('b', 2), ('c', 3), ('d', 4), ('e', 5)])"
            ]
          },
          "metadata": {},
          "execution_count": 38
        }
      ]
    },
    {
      "cell_type": "code",
      "metadata": {
        "colab": {
          "base_uri": "https://localhost:8080/"
        },
        "id": "_3AVsAqHfl50",
        "outputId": "1dc8a67e-5b72-417e-d4f5-5ffe1dca150b"
      },
      "source": [
        "list(meu_dicionario.items())[1]"
      ],
      "execution_count": null,
      "outputs": [
        {
          "output_type": "execute_result",
          "data": {
            "text/plain": [
              "('b', 2)"
            ]
          },
          "metadata": {},
          "execution_count": 41
        }
      ]
    },
    {
      "cell_type": "code",
      "metadata": {
        "colab": {
          "base_uri": "https://localhost:8080/"
        },
        "id": "ilw0L4YBf6oz",
        "outputId": "7373684c-85e3-4f80-84fb-85e5b11ca0b4"
      },
      "source": [
        "meu_dicionario"
      ],
      "execution_count": null,
      "outputs": [
        {
          "output_type": "execute_result",
          "data": {
            "text/plain": [
              "{'a': 1, 'b': 2, 'c': 3, 'd': 4, 'e': 5}"
            ]
          },
          "metadata": {},
          "execution_count": 42
        }
      ]
    },
    {
      "cell_type": "code",
      "metadata": {
        "colab": {
          "base_uri": "https://localhost:8080/"
        },
        "id": "rDFGmIELgbrA",
        "outputId": "562bc84b-f62c-408b-b540-90d8401140b6"
      },
      "source": [
        "for i,v in meu_dicionario.items():\n",
        "  print(i,\"tem como valor\",v)"
      ],
      "execution_count": null,
      "outputs": [
        {
          "output_type": "stream",
          "name": "stdout",
          "text": [
            "a tem como valor 1\n",
            "b tem como valor 2\n",
            "c tem como valor 3\n",
            "d tem como valor 4\n",
            "e tem como valor 5\n"
          ]
        }
      ]
    },
    {
      "cell_type": "markdown",
      "metadata": {
        "id": "iwMIywf2gkSz"
      },
      "source": [
        "###Exercício 12: Crie um arquivo e:\n",
        "- Escreva nele os números de 1 a 10\n",
        "- Depois de escrito, imprima na tela todos os números do arquivo\n",
        "- Escreva no arquivo os números de 11 a 20, substituindo os números que\n",
        "estavam antes no arquivo\n",
        "- Escreva no arquivo os números de 21 a 30, adicionando os números no\n",
        "final do arquivo (sem apagar o que já estavam lá)\n",
        "- Imprima na tela todos os números do arquivo novamente (de 11 a 30)\n",
        "- Imprima na tela todos os números do arquivo novamente, mas agora linha por linha"
      ]
    },
    {
      "cell_type": "code",
      "metadata": {
        "id": "ze75iyO3ggvO"
      },
      "source": [
        "meu_arquivo = open(\"/content/drive/MyDrive/USP/Curso Python para PLN/novo_arquivo.txt\",'w')"
      ],
      "execution_count": null,
      "outputs": []
    },
    {
      "cell_type": "code",
      "metadata": {
        "id": "0sXxeTzYjIgn"
      },
      "source": [
        "for i in range(1,11):\n",
        "  meu_arquivo.write(str(i)+'\\n')"
      ],
      "execution_count": null,
      "outputs": []
    },
    {
      "cell_type": "code",
      "metadata": {
        "id": "4w32N3xdjoh2"
      },
      "source": [
        "meu_arquivo.close()"
      ],
      "execution_count": null,
      "outputs": []
    },
    {
      "cell_type": "code",
      "metadata": {
        "colab": {
          "base_uri": "https://localhost:8080/"
        },
        "id": "1TKR_5Ynj_bi",
        "outputId": "db8b7684-566e-4b18-c98c-525f836f33c1"
      },
      "source": [
        "meu_arquivo_v2 = open(\"/content/drive/MyDrive/USP/Curso Python para PLN/novo_arquivo.txt\",'r')\n",
        "conteudo = meu_arquivo_v2.read()\n",
        "meu_arquivo_v2.close()\n",
        "print(conteudo)"
      ],
      "execution_count": null,
      "outputs": [
        {
          "output_type": "stream",
          "name": "stdout",
          "text": [
            "1\n",
            "2\n",
            "3\n",
            "4\n",
            "5\n",
            "6\n",
            "7\n",
            "8\n",
            "9\n",
            "10\n",
            "\n"
          ]
        }
      ]
    },
    {
      "cell_type": "code",
      "metadata": {
        "id": "6MqVDVkek5ip"
      },
      "source": [
        "meu_arquivo_v3 = open(\"/content/drive/MyDrive/USP/Curso Python para PLN/novo_arquivo.txt\",'w')\n",
        "\n",
        "for i in range(11,21):\n",
        "  meu_arquivo_v3.write(str(i)+'\\n')\n",
        "\n",
        "meu_arquivo_v3.close()"
      ],
      "execution_count": null,
      "outputs": []
    },
    {
      "cell_type": "code",
      "metadata": {
        "id": "w4YJDxP2lX-R"
      },
      "source": [
        "meu_arquivo_v4 = open(\"/content/drive/MyDrive/USP/Curso Python para PLN/novo_arquivo.txt\",'a')\n",
        "\n",
        "for i in range(21,31):\n",
        "  meu_arquivo_v4.write(str(i)+'\\n')\n",
        "\n",
        "meu_arquivo_v4.close()"
      ],
      "execution_count": null,
      "outputs": []
    },
    {
      "cell_type": "code",
      "metadata": {
        "colab": {
          "base_uri": "https://localhost:8080/"
        },
        "id": "rA85exoGlfQ_",
        "outputId": "94dc8b24-ca49-438a-880a-442871826d3b"
      },
      "source": [
        "meu_arquivo_v5 = open(\"/content/drive/MyDrive/USP/Curso Python para PLN/novo_arquivo.txt\",'r')\n",
        "conteudo = meu_arquivo_v5.read()\n",
        "meu_arquivo_v5.close()\n",
        "print(conteudo)"
      ],
      "execution_count": null,
      "outputs": [
        {
          "output_type": "stream",
          "name": "stdout",
          "text": [
            "11\n",
            "12\n",
            "13\n",
            "14\n",
            "15\n",
            "16\n",
            "17\n",
            "18\n",
            "19\n",
            "20\n",
            "21\n",
            "22\n",
            "23\n",
            "24\n",
            "25\n",
            "26\n",
            "27\n",
            "28\n",
            "29\n",
            "30\n",
            "\n"
          ]
        }
      ]
    },
    {
      "cell_type": "markdown",
      "metadata": {
        "id": "AWz8XNpYSA_N"
      },
      "source": [
        "##Lista de Exercícios 02"
      ]
    },
    {
      "cell_type": "markdown",
      "metadata": {
        "id": "IAV99228SFqW"
      },
      "source": [
        "###Exercício 01: Crie uma variável com a string “ instituto de ciências matemáticas e de computação” e faça:\n",
        "- Concatene (adicione) uma outra string chamada “usp”\n",
        "- Concatene (adicione) uma outra informação: 2021\n",
        "- Verifique o tamanho da nova string (com as informações adicionadas\n",
        "das questões a e b), com referência a caracteres e espaços\n",
        "- Transforme a string inteiramente em maiúsculo\n",
        "- Transforme a string inteiramente em minúsculo\n",
        "- Retire o espaço que está no início da string e imprima a string\n",
        "- Substitua todas as letras ‘a’ por ‘x’\n",
        "- Separe a string em palavras únicas\n",
        "- Verifique quantas palavras existem na string\n",
        "- Separe a string por meio da palavra “de”\n",
        "- Verifique agora quantas palavras/frases foram formadas quando houve\n",
        "a separação pela palavra “de”\n",
        "- Junte as palavras que foram separadas (pode usar a separação resultante da questão h ou j)\n",
        "- Junte as palavras que foram separadas, mas agora separadas por uma\n",
        "barra invertida, não por espaços (pode usar a separação resultante da\n",
        "questão h ou j)"
      ]
    },
    {
      "cell_type": "code",
      "metadata": {
        "id": "HKXQKGOTlhvb",
        "colab": {
          "base_uri": "https://localhost:8080/",
          "height": 35
        },
        "outputId": "80996f58-74d4-4ea6-dac6-184ab1251a6c"
      },
      "source": [
        "minha_string = \" instituto de ciências matemáticas e de computação\"\n",
        "minha_string = minha_string + \" usp\"\n",
        "minha_string"
      ],
      "execution_count": null,
      "outputs": [
        {
          "output_type": "execute_result",
          "data": {
            "application/vnd.google.colaboratory.intrinsic+json": {
              "type": "string"
            },
            "text/plain": [
              "' instituto de ciências matemáticas e de computação usp'"
            ]
          },
          "metadata": {},
          "execution_count": 22
        }
      ]
    },
    {
      "cell_type": "code",
      "metadata": {
        "colab": {
          "base_uri": "https://localhost:8080/",
          "height": 35
        },
        "id": "5FxlVZyTSjca",
        "outputId": "1bfed4e6-51ab-4d71-dd85-50954ad6880a"
      },
      "source": [
        "minha_string = minha_string + \" \" + str(2021)\n",
        "minha_string"
      ],
      "execution_count": null,
      "outputs": [
        {
          "output_type": "execute_result",
          "data": {
            "application/vnd.google.colaboratory.intrinsic+json": {
              "type": "string"
            },
            "text/plain": [
              "' instituto de ciências matemáticas e de computação usp 2021'"
            ]
          },
          "metadata": {},
          "execution_count": 23
        }
      ]
    },
    {
      "cell_type": "code",
      "metadata": {
        "colab": {
          "base_uri": "https://localhost:8080/"
        },
        "id": "oJvwT-IXSq-2",
        "outputId": "646f30a4-a914-4891-a3a9-0c887d234f67"
      },
      "source": [
        "len(minha_string)"
      ],
      "execution_count": null,
      "outputs": [
        {
          "output_type": "execute_result",
          "data": {
            "text/plain": [
              "59"
            ]
          },
          "metadata": {},
          "execution_count": 24
        }
      ]
    },
    {
      "cell_type": "code",
      "metadata": {
        "colab": {
          "base_uri": "https://localhost:8080/",
          "height": 35
        },
        "id": "TifquyHpSvRl",
        "outputId": "b09ea5ba-55e1-45f3-a4e0-b225f957b2a5"
      },
      "source": [
        "minha_string.upper()"
      ],
      "execution_count": null,
      "outputs": [
        {
          "output_type": "execute_result",
          "data": {
            "application/vnd.google.colaboratory.intrinsic+json": {
              "type": "string"
            },
            "text/plain": [
              "' INSTITUTO DE CIÊNCIAS MATEMÁTICAS E DE COMPUTAÇÃO USP 2021'"
            ]
          },
          "metadata": {},
          "execution_count": 25
        }
      ]
    },
    {
      "cell_type": "code",
      "metadata": {
        "colab": {
          "base_uri": "https://localhost:8080/",
          "height": 35
        },
        "id": "20g6QZYbSzKf",
        "outputId": "d68e443e-ae64-43dd-c6f1-d17755ebbeeb"
      },
      "source": [
        "minha_string.lower()"
      ],
      "execution_count": null,
      "outputs": [
        {
          "output_type": "execute_result",
          "data": {
            "application/vnd.google.colaboratory.intrinsic+json": {
              "type": "string"
            },
            "text/plain": [
              "' instituto de ciências matemáticas e de computação usp 2021'"
            ]
          },
          "metadata": {},
          "execution_count": 26
        }
      ]
    },
    {
      "cell_type": "code",
      "metadata": {
        "colab": {
          "base_uri": "https://localhost:8080/",
          "height": 35
        },
        "id": "R6TSLsagS01k",
        "outputId": "d50a7730-ad87-4f82-b79d-005f7f118c3d"
      },
      "source": [
        "minha_string.strip()"
      ],
      "execution_count": null,
      "outputs": [
        {
          "output_type": "execute_result",
          "data": {
            "application/vnd.google.colaboratory.intrinsic+json": {
              "type": "string"
            },
            "text/plain": [
              "'instituto de ciências matemáticas e de computação usp 2021'"
            ]
          },
          "metadata": {},
          "execution_count": 27
        }
      ]
    },
    {
      "cell_type": "code",
      "metadata": {
        "colab": {
          "base_uri": "https://localhost:8080/",
          "height": 35
        },
        "id": "2zu1U6i1TKR0",
        "outputId": "8d5560bc-d5d3-4dc3-962e-dd62b3c5253e"
      },
      "source": [
        "minha_string.replace('a','x')"
      ],
      "execution_count": null,
      "outputs": [
        {
          "output_type": "execute_result",
          "data": {
            "application/vnd.google.colaboratory.intrinsic+json": {
              "type": "string"
            },
            "text/plain": [
              "' instituto de ciêncixs mxtemáticxs e de computxção usp 2021'"
            ]
          },
          "metadata": {},
          "execution_count": 28
        }
      ]
    },
    {
      "cell_type": "code",
      "metadata": {
        "colab": {
          "base_uri": "https://localhost:8080/"
        },
        "id": "vYyjGsmLTRCW",
        "outputId": "2f277260-8277-4299-e725-b78e4c6d75be"
      },
      "source": [
        "minha_string.split()"
      ],
      "execution_count": null,
      "outputs": [
        {
          "output_type": "execute_result",
          "data": {
            "text/plain": [
              "['instituto',\n",
              " 'de',\n",
              " 'ciências',\n",
              " 'matemáticas',\n",
              " 'e',\n",
              " 'de',\n",
              " 'computação',\n",
              " 'usp',\n",
              " '2021']"
            ]
          },
          "metadata": {},
          "execution_count": 29
        }
      ]
    },
    {
      "cell_type": "code",
      "metadata": {
        "colab": {
          "base_uri": "https://localhost:8080/"
        },
        "id": "Dgc1nTreT6VX",
        "outputId": "f9c9610e-c312-43a4-9966-bde8da2f0689"
      },
      "source": [
        "len(minha_string.split())"
      ],
      "execution_count": null,
      "outputs": [
        {
          "output_type": "execute_result",
          "data": {
            "text/plain": [
              "9"
            ]
          },
          "metadata": {},
          "execution_count": 30
        }
      ]
    },
    {
      "cell_type": "code",
      "metadata": {
        "colab": {
          "base_uri": "https://localhost:8080/"
        },
        "id": "wimDHx5QUEa1",
        "outputId": "c15a2b94-c3da-4b92-d1bc-b547ce232d6f"
      },
      "source": [
        "minha_string.split('de')"
      ],
      "execution_count": null,
      "outputs": [
        {
          "output_type": "execute_result",
          "data": {
            "text/plain": [
              "[' instituto ', ' ciências matemáticas e ', ' computação usp 2021']"
            ]
          },
          "metadata": {},
          "execution_count": 31
        }
      ]
    },
    {
      "cell_type": "code",
      "metadata": {
        "colab": {
          "base_uri": "https://localhost:8080/"
        },
        "id": "3J3ZjpZAUI3F",
        "outputId": "9ccbe7ad-787d-47b0-d0ee-2dbc49eac1b1"
      },
      "source": [
        "len(minha_string.split('de'))"
      ],
      "execution_count": null,
      "outputs": [
        {
          "output_type": "execute_result",
          "data": {
            "text/plain": [
              "3"
            ]
          },
          "metadata": {},
          "execution_count": 32
        }
      ]
    },
    {
      "cell_type": "code",
      "metadata": {
        "colab": {
          "base_uri": "https://localhost:8080/",
          "height": 35
        },
        "id": "248YB_QhUNFK",
        "outputId": "e04bd99b-7be2-4f58-938a-a0b4e73aea51"
      },
      "source": [
        "minha_nova_string = minha_string.split()\n",
        "\" \".join(minha_nova_string)"
      ],
      "execution_count": null,
      "outputs": [
        {
          "output_type": "execute_result",
          "data": {
            "application/vnd.google.colaboratory.intrinsic+json": {
              "type": "string"
            },
            "text/plain": [
              "'instituto de ciências matemáticas e de computação usp 2021'"
            ]
          },
          "metadata": {},
          "execution_count": 33
        }
      ]
    },
    {
      "cell_type": "code",
      "metadata": {
        "colab": {
          "base_uri": "https://localhost:8080/",
          "height": 35
        },
        "id": "ZYJD82-2UrMS",
        "outputId": "52d01957-e3e2-440d-e899-9a439b806f60"
      },
      "source": [
        "\"/\".join(minha_nova_string)"
      ],
      "execution_count": null,
      "outputs": [
        {
          "output_type": "execute_result",
          "data": {
            "application/vnd.google.colaboratory.intrinsic+json": {
              "type": "string"
            },
            "text/plain": [
              "'instituto/de/ciências/matemáticas/e/de/computação/usp/2021'"
            ]
          },
          "metadata": {},
          "execution_count": 34
        }
      ]
    },
    {
      "cell_type": "markdown",
      "metadata": {
        "id": "0omPhxUlZU7d"
      },
      "source": [
        "##Exercício 02: Escolha um corpus qualquer (pode ser o que foram utilizados na aula) e, usando as funções do NLTK, faça:\n",
        "- Tokenize o corpus inteiro (palavras, números e pontuações)\n",
        "- Verifique a quantidade de tokens do corpus\n",
        "- Tokenize o corpus apenas por suas palavras\n",
        "- Verifique a quantidade de palavras do corpus\n",
        "- Verifique a frequência de palavras no corpus\n",
        "- Verifique quais são as 5, 10 e 15 palavras mais frequentes do corpus\n",
        "- Extraia as stopwords do NLTK (não do corpus ainda)\n",
        "- Verifique a frequência dos tokens sem stopwords do corpus"
      ]
    },
    {
      "cell_type": "code",
      "metadata": {
        "id": "ZHThS_feZZn9"
      },
      "source": [
        "arquivo = open(\"/content/drive/MyDrive/USP/Curso Python para PLN/corpus_teste.txt\",'r')\n",
        "corpus = arquivo.read()\n",
        "arquivo.close()"
      ],
      "execution_count": 35,
      "outputs": []
    },
    {
      "cell_type": "code",
      "metadata": {
        "colab": {
          "base_uri": "https://localhost:8080/"
        },
        "id": "ipF-v_EbaeGa",
        "outputId": "8be2c50f-cd40-45c1-8404-3ec7d97af4b5"
      },
      "source": [
        "import nltk\n",
        "\n",
        "nltk.download('punkt')\n",
        "tokens = nltk.word_tokenize(corpus)\n",
        "tokens"
      ],
      "execution_count": 37,
      "outputs": [
        {
          "output_type": "stream",
          "name": "stdout",
          "text": [
            "[nltk_data] Downloading package punkt to /root/nltk_data...\n",
            "[nltk_data]   Unzipping tokenizers/punkt.zip.\n"
          ]
        },
        {
          "output_type": "execute_result",
          "data": {
            "text/plain": [
              "['Giants',\n",
              " 'batem',\n",
              " 'os',\n",
              " 'Patriots',\n",
              " 'no',\n",
              " 'Super',\n",
              " 'Bowl',\n",
              " 'XLII',\n",
              " 'Azarões',\n",
              " 'acabam',\n",
              " 'com',\n",
              " 'a',\n",
              " 'invencibilidade',\n",
              " 'de',\n",
              " 'New',\n",
              " 'England',\n",
              " 'e',\n",
              " 'ficam',\n",
              " 'com',\n",
              " 'o',\n",
              " 'título',\n",
              " 'da',\n",
              " 'temporada',\n",
              " '04/02/2008',\n",
              " '-',\n",
              " '01h07m',\n",
              " '-',\n",
              " 'Atualizado',\n",
              " 'em',\n",
              " '04/02/2008',\n",
              " '-',\n",
              " '09h49m',\n",
              " 'Com',\n",
              " 'um',\n",
              " 'passe',\n",
              " 'de',\n",
              " 'Eli',\n",
              " 'Manning',\n",
              " 'para',\n",
              " 'Plaxico',\n",
              " 'Burress',\n",
              " 'a',\n",
              " '39',\n",
              " 'segundos',\n",
              " 'do',\n",
              " 'fim',\n",
              " ',',\n",
              " 'o',\n",
              " 'New',\n",
              " 'York',\n",
              " 'Giants',\n",
              " 'anotou',\n",
              " 'o',\n",
              " 'touchdown',\n",
              " 'decisivo',\n",
              " 'e',\n",
              " 'derrubou',\n",
              " 'o',\n",
              " 'favorito',\n",
              " 'New',\n",
              " 'England',\n",
              " 'Patriots',\n",
              " 'por',\n",
              " '17',\n",
              " 'a',\n",
              " '14',\n",
              " 'neste',\n",
              " 'domingo',\n",
              " ',',\n",
              " 'em',\n",
              " 'Glendale',\n",
              " ',',\n",
              " 'no',\n",
              " 'Super',\n",
              " 'Bowl',\n",
              " 'XLII',\n",
              " '.',\n",
              " 'O',\n",
              " 'resultado',\n",
              " ',',\n",
              " 'uma',\n",
              " 'das',\n",
              " 'maiores',\n",
              " 'zebras',\n",
              " 'da',\n",
              " 'história',\n",
              " 'do',\n",
              " 'Super',\n",
              " 'Bowl',\n",
              " ',',\n",
              " 'acabou',\n",
              " 'com',\n",
              " 'a',\n",
              " 'temporada',\n",
              " 'perfeita',\n",
              " 'de',\n",
              " 'Tom',\n",
              " 'Brady',\n",
              " 'e',\n",
              " 'companhia',\n",
              " ',',\n",
              " 'que',\n",
              " 'esperavam',\n",
              " 'fazer',\n",
              " 'história',\n",
              " 'ao',\n",
              " 'levantar',\n",
              " 'o',\n",
              " 'troféu',\n",
              " 'da',\n",
              " 'NFL',\n",
              " 'sem',\n",
              " 'sofrer',\n",
              " 'uma',\n",
              " 'derrota',\n",
              " 'no',\n",
              " 'ano',\n",
              " '.',\n",
              " 'A',\n",
              " 'vitória',\n",
              " 'dos',\n",
              " 'Giants',\n",
              " ',',\n",
              " 'porém',\n",
              " ',',\n",
              " 'também',\n",
              " 'ficará',\n",
              " 'para',\n",
              " 'a',\n",
              " 'história',\n",
              " '.',\n",
              " 'Pela',\n",
              " 'primeira',\n",
              " 'vez',\n",
              " ',',\n",
              " 'irmãos',\n",
              " 'quarterbacks',\n",
              " 'triunfam',\n",
              " 'no',\n",
              " 'Super',\n",
              " 'Bowl',\n",
              " 'em',\n",
              " 'temporadas',\n",
              " 'consecutivas',\n",
              " '.',\n",
              " 'No',\n",
              " 'ano',\n",
              " 'passado',\n",
              " ',',\n",
              " 'Peyton',\n",
              " 'Manning',\n",
              " ',',\n",
              " 'irmão',\n",
              " 'de',\n",
              " 'Eli',\n",
              " ',',\n",
              " 'chegou',\n",
              " 'ao',\n",
              " 'título',\n",
              " 'máximo',\n",
              " 'da',\n",
              " 'NFL',\n",
              " 'pelo',\n",
              " 'Indianapolis',\n",
              " 'Colts',\n",
              " '.',\n",
              " 'A',\n",
              " 'partida',\n",
              " 'Os',\n",
              " 'Giants',\n",
              " 'começaram',\n",
              " 'com',\n",
              " 'a',\n",
              " 'posse',\n",
              " 'de',\n",
              " 'bola',\n",
              " ',',\n",
              " 'e',\n",
              " 'mostraram',\n",
              " 'logo',\n",
              " 'que',\n",
              " 'iriam',\n",
              " 'alongar',\n",
              " 'ao',\n",
              " 'máximo',\n",
              " 'suas',\n",
              " 'posses',\n",
              " 'de',\n",
              " 'bola',\n",
              " '.',\n",
              " 'Misturando',\n",
              " 'corridas',\n",
              " 'com',\n",
              " 'Brandon',\n",
              " 'Jacobs',\n",
              " 'e',\n",
              " 'passes',\n",
              " 'curtos',\n",
              " ',',\n",
              " 'o',\n",
              " 'time',\n",
              " 'de',\n",
              " 'Nova',\n",
              " 'York',\n",
              " 'chegou',\n",
              " 'à',\n",
              " 'red',\n",
              " 'zone',\n",
              " 'logo',\n",
              " 'na',\n",
              " 'primeira',\n",
              " 'campanha',\n",
              " '.',\n",
              " 'O',\n",
              " 'avanço',\n",
              " ',',\n",
              " 'no',\n",
              " 'entanto',\n",
              " ',',\n",
              " 'parou',\n",
              " 'na',\n",
              " 'linha',\n",
              " 'de',\n",
              " '17',\n",
              " 'jardas',\n",
              " 'e',\n",
              " 'Lawrence',\n",
              " 'Tynes',\n",
              " 'converteu',\n",
              " 'o',\n",
              " 'field',\n",
              " 'goal',\n",
              " 'de',\n",
              " '32',\n",
              " 'jardas',\n",
              " 'para',\n",
              " 'abrir',\n",
              " 'o',\n",
              " 'placar',\n",
              " '.',\n",
              " 'Eli',\n",
              " 'Manning',\n",
              " 'e',\n",
              " 'companhia',\n",
              " 'ficaram',\n",
              " '9m54s',\n",
              " 'com',\n",
              " 'a',\n",
              " 'bola',\n",
              " ',',\n",
              " 'mas',\n",
              " 'o',\n",
              " 'ataque',\n",
              " 'dos',\n",
              " 'Patriots',\n",
              " 'não',\n",
              " 'entrou',\n",
              " 'em',\n",
              " 'campo',\n",
              " 'frio',\n",
              " '.',\n",
              " 'Logo',\n",
              " 'no',\n",
              " 'retorno',\n",
              " 'do',\n",
              " 'kickoff',\n",
              " ',',\n",
              " 'o',\n",
              " 'running',\n",
              " 'back',\n",
              " 'Laurence',\n",
              " 'Maroney',\n",
              " 'avançou',\n",
              " '43',\n",
              " 'jardas',\n",
              " ',',\n",
              " 'deixando',\n",
              " 'Tom',\n",
              " 'Brady',\n",
              " 'em',\n",
              " 'boa',\n",
              " 'posição',\n",
              " '.',\n",
              " 'Com',\n",
              " 'passes',\n",
              " 'curtos',\n",
              " ',',\n",
              " 'os',\n",
              " 'Patriots',\n",
              " 'chegaram',\n",
              " 'à',\n",
              " 'linha',\n",
              " 'de',\n",
              " '17',\n",
              " 'jardas',\n",
              " 'e',\n",
              " ',',\n",
              " 'graças',\n",
              " 'a',\n",
              " 'uma',\n",
              " 'penalidade',\n",
              " '(',\n",
              " 'interferência',\n",
              " 'de',\n",
              " 'passe',\n",
              " ')',\n",
              " 'do',\n",
              " 'linebacker',\n",
              " 'Antonio',\n",
              " 'Pierce',\n",
              " ',',\n",
              " 'alcançaram',\n",
              " 'a',\n",
              " 'linha',\n",
              " 'de',\n",
              " 'uma',\n",
              " 'jarda',\n",
              " '.',\n",
              " 'Maroney',\n",
              " 'avançou',\n",
              " 'pelo',\n",
              " 'chão',\n",
              " 'e',\n",
              " 'anotou',\n",
              " 'o',\n",
              " 'primeiro',\n",
              " 'touchdown',\n",
              " 'do',\n",
              " 'jogo',\n",
              " '.',\n",
              " 'Os',\n",
              " 'Giants',\n",
              " 'pareciam',\n",
              " 'rumo',\n",
              " 'à',\n",
              " 'virada',\n",
              " 'na',\n",
              " 'campanha',\n",
              " 'seguinte',\n",
              " '.',\n",
              " 'Manning',\n",
              " 'achou',\n",
              " 'Amani',\n",
              " 'Toomer',\n",
              " 'para',\n",
              " 'um',\n",
              " 'avanço',\n",
              " 'de',\n",
              " '38',\n",
              " 'jardas',\n",
              " ',',\n",
              " 'e',\n",
              " 'o',\n",
              " 'time',\n",
              " 'de',\n",
              " 'Nova',\n",
              " 'York',\n",
              " 'entrou',\n",
              " 'novamente',\n",
              " 'na',\n",
              " 'red',\n",
              " 'zone',\n",
              " '.',\n",
              " 'Com',\n",
              " 'a',\n",
              " 'bola',\n",
              " 'na',\n",
              " 'linha',\n",
              " 'de',\n",
              " '14',\n",
              " 'jardas',\n",
              " 'dos',\n",
              " 'Patriots',\n",
              " ',',\n",
              " 'os',\n",
              " 'Giants',\n",
              " 'sofreram',\n",
              " 'um',\n",
              " 'revés',\n",
              " '.',\n",
              " 'Manning',\n",
              " 'passou',\n",
              " 'para',\n",
              " 'Steve',\n",
              " 'Smith',\n",
              " ',',\n",
              " 'que',\n",
              " 'soltou',\n",
              " 'a',\n",
              " 'bola',\n",
              " '.',\n",
              " 'Ellis',\n",
              " 'Hobbs',\n",
              " 'aproveitou',\n",
              " ',',\n",
              " 'tomou',\n",
              " 'a',\n",
              " 'posse',\n",
              " 'para',\n",
              " 'os',\n",
              " 'Patriots',\n",
              " ',',\n",
              " 'e',\n",
              " 'avançou',\n",
              " '23',\n",
              " 'jardas',\n",
              " '.',\n",
              " 'A',\n",
              " 'defesa',\n",
              " 'de',\n",
              " 'Nova',\n",
              " 'York',\n",
              " 'manteve',\n",
              " 'o',\n",
              " 'jogo',\n",
              " 'equilibrado',\n",
              " '.',\n",
              " 'Com',\n",
              " 'dois',\n",
              " 'sacks',\n",
              " 'seguidos',\n",
              " ',',\n",
              " 'os',\n",
              " 'Giants',\n",
              " 'forçaram',\n",
              " 'o',\n",
              " 'punt',\n",
              " 'e',\n",
              " 'recuperaram',\n",
              " 'a',\n",
              " 'bola',\n",
              " '.',\n",
              " 'Mas',\n",
              " 'a',\n",
              " 'campanha',\n",
              " 'seguinte',\n",
              " 'provou',\n",
              " 'ser',\n",
              " 'outra',\n",
              " 'decepção',\n",
              " 'para',\n",
              " 'Nova',\n",
              " 'York',\n",
              " '.',\n",
              " 'O',\n",
              " 'time',\n",
              " 'chegou',\n",
              " 'à',\n",
              " 'linha',\n",
              " 'de',\n",
              " '25',\n",
              " 'jardas',\n",
              " ',',\n",
              " 'mas',\n",
              " 'Manning',\n",
              " 'sofreu',\n",
              " 'um',\n",
              " 'sack',\n",
              " 'e',\n",
              " 'cometeu',\n",
              " 'um',\n",
              " 'fumble',\n",
              " ',',\n",
              " 'e',\n",
              " 'o',\n",
              " 'ataque',\n",
              " 'voltou',\n",
              " 'para',\n",
              " 'a',\n",
              " 'linha',\n",
              " 'de',\n",
              " '39',\n",
              " 'jardas',\n",
              " ',',\n",
              " 'não',\n",
              " 'conseguindo',\n",
              " 'pontuar',\n",
              " 'mais',\n",
              " 'uma',\n",
              " 'vez',\n",
              " '.',\n",
              " 'Os',\n",
              " 'Patriots',\n",
              " 'tiveram',\n",
              " 'uma',\n",
              " 'última',\n",
              " 'chance',\n",
              " 'de',\n",
              " 'marcar',\n",
              " 'antes',\n",
              " 'do',\n",
              " 'intervalo',\n",
              " ',',\n",
              " 'mas',\n",
              " ',',\n",
              " 'a',\n",
              " '22',\n",
              " 'segundos',\n",
              " 'do',\n",
              " 'fim',\n",
              " 'do',\n",
              " 'segundo',\n",
              " 'período',\n",
              " ',',\n",
              " 'Brady',\n",
              " 'foi',\n",
              " 'novamente',\n",
              " 'sacado',\n",
              " '.',\n",
              " 'Desta',\n",
              " 'vez',\n",
              " ',',\n",
              " 'ele',\n",
              " 'cometeu',\n",
              " 'o',\n",
              " 'fumble',\n",
              " 'e',\n",
              " 'os',\n",
              " 'Giants',\n",
              " 'tomaram',\n",
              " 'a',\n",
              " 'posse',\n",
              " 'de',\n",
              " 'bola',\n",
              " '.',\n",
              " 'Manning',\n",
              " 'tentou',\n",
              " 'um',\n",
              " 'passe',\n",
              " 'longo',\n",
              " ',',\n",
              " 'de',\n",
              " '50',\n",
              " 'jardas',\n",
              " ',',\n",
              " 'nos',\n",
              " 'últimos',\n",
              " 'segundos',\n",
              " ',',\n",
              " 'mas',\n",
              " 'não',\n",
              " 'teve',\n",
              " 'sucesso',\n",
              " '.',\n",
              " 'O',\n",
              " 'jogo',\n",
              " 'continuou',\n",
              " 'amarrado',\n",
              " 'no',\n",
              " 'terceiro',\n",
              " 'quarto',\n",
              " ',',\n",
              " 'com',\n",
              " 'as',\n",
              " 'defesas',\n",
              " 'levando',\n",
              " 'a',\n",
              " 'melhor',\n",
              " 'sobre',\n",
              " 'os',\n",
              " 'ataques',\n",
              " '.',\n",
              " 'A',\n",
              " 'única',\n",
              " 'chance',\n",
              " 'de',\n",
              " 'pontuar',\n",
              " 'do',\n",
              " 'período',\n",
              " 'foi',\n",
              " 'dos',\n",
              " 'Patriots',\n",
              " ',',\n",
              " 'que',\n",
              " 'chegaram',\n",
              " 'à',\n",
              " 'linha',\n",
              " 'de',\n",
              " '31',\n",
              " 'jardas',\n",
              " 'dos',\n",
              " 'Giants',\n",
              " '.',\n",
              " 'O',\n",
              " 'técnico',\n",
              " 'Bill',\n",
              " 'Bellichick',\n",
              " ',',\n",
              " 'porém',\n",
              " ',',\n",
              " 'optou',\n",
              " 'por',\n",
              " 'uma',\n",
              " 'quarta',\n",
              " 'descida',\n",
              " 'em',\n",
              " 'vez',\n",
              " 'de',\n",
              " 'um',\n",
              " 'field',\n",
              " 'goal',\n",
              " '.',\n",
              " 'Brady',\n",
              " 'tentou',\n",
              " 'um',\n",
              " 'passe',\n",
              " 'para',\n",
              " 'Jabar',\n",
              " 'Gaffney',\n",
              " ',',\n",
              " 'mas',\n",
              " 'não',\n",
              " 'conseguiu',\n",
              " 'completar',\n",
              " '.',\n",
              " 'O',\n",
              " 'último',\n",
              " 'período',\n",
              " 'começou',\n",
              " 'arrasador',\n",
              " 'para',\n",
              " 'os',\n",
              " 'Giants',\n",
              " '.',\n",
              " 'na',\n",
              " 'primeira',\n",
              " 'jogada',\n",
              " ',',\n",
              " 'Manning',\n",
              " 'achou',\n",
              " 'o',\n",
              " 'tight',\n",
              " 'end',\n",
              " 'Kevin',\n",
              " 'Boss',\n",
              " ',',\n",
              " 'para',\n",
              " 'um',\n",
              " 'incrível',\n",
              " 'avanço',\n",
              " 'de',\n",
              " '45',\n",
              " 'jardas',\n",
              " ',',\n",
              " 'que',\n",
              " 'deixou',\n",
              " 'o',\n",
              " 'time',\n",
              " 'na',\n",
              " 'linha',\n",
              " 'de',\n",
              " '35',\n",
              " 'dos',\n",
              " 'Patriots',\n",
              " '.',\n",
              " 'Outro',\n",
              " 'lançamento',\n",
              " ',',\n",
              " 'desta',\n",
              " 'vez',\n",
              " 'para',\n",
              " 'Steve',\n",
              " 'Smith',\n",
              " ',',\n",
              " 'marcou',\n",
              " 'o',\n",
              " 'avanço',\n",
              " 'até',\n",
              " 'a',\n",
              " 'linha',\n",
              " 'de',\n",
              " '12',\n",
              " 'jardas',\n",
              " '.',\n",
              " 'Duas',\n",
              " 'jogadas',\n",
              " 'depois',\n",
              " ',',\n",
              " 'David',\n",
              " 'Tyree',\n",
              " 'pegou',\n",
              " 'um',\n",
              " 'passe',\n",
              " 'de',\n",
              " 'cinco',\n",
              " 'jardas',\n",
              " 'na',\n",
              " 'end',\n",
              " 'zone',\n",
              " 'para',\n",
              " 'anotar',\n",
              " 'o',\n",
              " 'touchdown',\n",
              " 'e',\n",
              " 'virar',\n",
              " 'o',\n",
              " 'jogo',\n",
              " '.',\n",
              " 'Na',\n",
              " 'hora',\n",
              " 'da',\n",
              " 'decisão',\n",
              " ',',\n",
              " 'o',\n",
              " 'ataque',\n",
              " 'dos',\n",
              " 'Patriots',\n",
              " 'voltou',\n",
              " 'a',\n",
              " 'funcionar',\n",
              " '.',\n",
              " 'Com',\n",
              " 'uma',\n",
              " 'série',\n",
              " 'de',\n",
              " 'passes',\n",
              " 'curtos',\n",
              " 'e',\n",
              " 'variados',\n",
              " ',',\n",
              " 'Brady',\n",
              " 'achou',\n",
              " 'Wes',\n",
              " 'Welker',\n",
              " ',',\n",
              " 'Randy',\n",
              " 'Moss',\n",
              " 'e',\n",
              " 'Kevin',\n",
              " 'Faulk',\n",
              " 'seguidas',\n",
              " 'vezes',\n",
              " 'até',\n",
              " 'chegar',\n",
              " 'à',\n",
              " 'red',\n",
              " 'zone',\n",
              " '.',\n",
              " 'A',\n",
              " '2m45s',\n",
              " 'do',\n",
              " 'fim',\n",
              " ',',\n",
              " 'o',\n",
              " 'quarterback',\n",
              " 'conectou',\n",
              " 'mais',\n",
              " 'uma',\n",
              " 'vez',\n",
              " 'com',\n",
              " 'Moss',\n",
              " ',',\n",
              " 'que',\n",
              " 'se',\n",
              " 'desmarcou',\n",
              " 'e',\n",
              " 'ficou',\n",
              " 'livre',\n",
              " 'na',\n",
              " 'lateral',\n",
              " 'direita',\n",
              " 'da',\n",
              " 'end',\n",
              " 'zone',\n",
              " '.',\n",
              " 'Quando',\n",
              " 'os',\n",
              " 'fãs',\n",
              " 'de',\n",
              " 'New',\n",
              " 'England',\n",
              " 'já',\n",
              " 'comemoravam',\n",
              " 'a',\n",
              " 'vitória',\n",
              " ',',\n",
              " 'o',\n",
              " 'inesperado',\n",
              " 'aconteceu',\n",
              " '.',\n",
              " 'Em',\n",
              " 'uma',\n",
              " 'jogada',\n",
              " 'incrível',\n",
              " ',',\n",
              " 'Eli',\n",
              " 'Manning',\n",
              " 'se',\n",
              " 'soltou',\n",
              " 'de',\n",
              " 'dois',\n",
              " 'marcadores',\n",
              " 'que',\n",
              " 'o',\n",
              " 'seguravam',\n",
              " 'pela',\n",
              " 'camisa',\n",
              " 'e',\n",
              " ',',\n",
              " 'na',\n",
              " 'corrida',\n",
              " ',',\n",
              " 'lançou',\n",
              " 'para',\n",
              " 'Amani',\n",
              " 'Toomer',\n",
              " '.',\n",
              " 'O',\n",
              " 'wide',\n",
              " 'receiver',\n",
              " ',',\n",
              " 'bem',\n",
              " 'marcado',\n",
              " ',',\n",
              " 'saltou',\n",
              " 'e',\n",
              " 'conseguiu',\n",
              " 'a',\n",
              " 'fazer',\n",
              " 'recepção',\n",
              " 'para',\n",
              " 'um',\n",
              " 'avanço',\n",
              " 'de',\n",
              " '32',\n",
              " 'jardas',\n",
              " ',',\n",
              " 'deixando',\n",
              " 'os',\n",
              " 'Giants',\n",
              " 'na',\n",
              " 'linha',\n",
              " 'de',\n",
              " '24',\n",
              " 'de',\n",
              " 'New',\n",
              " 'England',\n",
              " '.',\n",
              " 'Quatro',\n",
              " 'jogadas',\n",
              " 'depois',\n",
              " ',',\n",
              " 'a',\n",
              " '39',\n",
              " 'segundos',\n",
              " 'do',\n",
              " 'fim',\n",
              " ',',\n",
              " 'Manning',\n",
              " 'achou',\n",
              " 'Plaxico',\n",
              " 'Burress',\n",
              " 'na',\n",
              " 'end',\n",
              " 'zone',\n",
              " 'para',\n",
              " 'conseguir',\n",
              " 'o',\n",
              " 'touchdown',\n",
              " 'do',\n",
              " 'título',\n",
              " '.']"
            ]
          },
          "metadata": {},
          "execution_count": 37
        }
      ]
    },
    {
      "cell_type": "code",
      "metadata": {
        "colab": {
          "base_uri": "https://localhost:8080/"
        },
        "id": "7oUslC2za3eG",
        "outputId": "52832495-9b4f-4398-9baf-cdeb4c189b42"
      },
      "source": [
        "len(tokens)"
      ],
      "execution_count": 38,
      "outputs": [
        {
          "output_type": "execute_result",
          "data": {
            "text/plain": [
              "862"
            ]
          },
          "metadata": {},
          "execution_count": 38
        }
      ]
    },
    {
      "cell_type": "code",
      "metadata": {
        "colab": {
          "base_uri": "https://localhost:8080/"
        },
        "id": "0mkM5A3sa-zF",
        "outputId": "bc2fe748-6685-48f2-c2a9-68cea217c702"
      },
      "source": [
        "from nltk.tokenize import RegexpTokenizer\n",
        "\n",
        "tokenizer = RegexpTokenizer(r'[A-z]\\w*')\n",
        "apenas_palavras = tokenizer.tokenize(corpus)\n",
        "apenas_palavras"
      ],
      "execution_count": 39,
      "outputs": [
        {
          "output_type": "execute_result",
          "data": {
            "text/plain": [
              "['Giants',\n",
              " 'batem',\n",
              " 'os',\n",
              " 'Patriots',\n",
              " 'no',\n",
              " 'Super',\n",
              " 'Bowl',\n",
              " 'XLII',\n",
              " 'Azarões',\n",
              " 'acabam',\n",
              " 'com',\n",
              " 'a',\n",
              " 'invencibilidade',\n",
              " 'de',\n",
              " 'New',\n",
              " 'England',\n",
              " 'e',\n",
              " 'ficam',\n",
              " 'com',\n",
              " 'o',\n",
              " 'título',\n",
              " 'da',\n",
              " 'temporada',\n",
              " 'h07m',\n",
              " 'Atualizado',\n",
              " 'em',\n",
              " 'h49m',\n",
              " 'Com',\n",
              " 'um',\n",
              " 'passe',\n",
              " 'de',\n",
              " 'Eli',\n",
              " 'Manning',\n",
              " 'para',\n",
              " 'Plaxico',\n",
              " 'Burress',\n",
              " 'a',\n",
              " 'segundos',\n",
              " 'do',\n",
              " 'fim',\n",
              " 'o',\n",
              " 'New',\n",
              " 'York',\n",
              " 'Giants',\n",
              " 'anotou',\n",
              " 'o',\n",
              " 'touchdown',\n",
              " 'decisivo',\n",
              " 'e',\n",
              " 'derrubou',\n",
              " 'o',\n",
              " 'favorito',\n",
              " 'New',\n",
              " 'England',\n",
              " 'Patriots',\n",
              " 'por',\n",
              " 'a',\n",
              " 'neste',\n",
              " 'domingo',\n",
              " 'em',\n",
              " 'Glendale',\n",
              " 'no',\n",
              " 'Super',\n",
              " 'Bowl',\n",
              " 'XLII',\n",
              " 'O',\n",
              " 'resultado',\n",
              " 'uma',\n",
              " 'das',\n",
              " 'maiores',\n",
              " 'zebras',\n",
              " 'da',\n",
              " 'história',\n",
              " 'do',\n",
              " 'Super',\n",
              " 'Bowl',\n",
              " 'acabou',\n",
              " 'com',\n",
              " 'a',\n",
              " 'temporada',\n",
              " 'perfeita',\n",
              " 'de',\n",
              " 'Tom',\n",
              " 'Brady',\n",
              " 'e',\n",
              " 'companhia',\n",
              " 'que',\n",
              " 'esperavam',\n",
              " 'fazer',\n",
              " 'história',\n",
              " 'ao',\n",
              " 'levantar',\n",
              " 'o',\n",
              " 'troféu',\n",
              " 'da',\n",
              " 'NFL',\n",
              " 'sem',\n",
              " 'sofrer',\n",
              " 'uma',\n",
              " 'derrota',\n",
              " 'no',\n",
              " 'ano',\n",
              " 'A',\n",
              " 'vitória',\n",
              " 'dos',\n",
              " 'Giants',\n",
              " 'porém',\n",
              " 'também',\n",
              " 'ficará',\n",
              " 'para',\n",
              " 'a',\n",
              " 'história',\n",
              " 'Pela',\n",
              " 'primeira',\n",
              " 'vez',\n",
              " 'irmãos',\n",
              " 'quarterbacks',\n",
              " 'triunfam',\n",
              " 'no',\n",
              " 'Super',\n",
              " 'Bowl',\n",
              " 'em',\n",
              " 'temporadas',\n",
              " 'consecutivas',\n",
              " 'No',\n",
              " 'ano',\n",
              " 'passado',\n",
              " 'Peyton',\n",
              " 'Manning',\n",
              " 'irmão',\n",
              " 'de',\n",
              " 'Eli',\n",
              " 'chegou',\n",
              " 'ao',\n",
              " 'título',\n",
              " 'máximo',\n",
              " 'da',\n",
              " 'NFL',\n",
              " 'pelo',\n",
              " 'Indianapolis',\n",
              " 'Colts',\n",
              " 'A',\n",
              " 'partida',\n",
              " 'Os',\n",
              " 'Giants',\n",
              " 'começaram',\n",
              " 'com',\n",
              " 'a',\n",
              " 'posse',\n",
              " 'de',\n",
              " 'bola',\n",
              " 'e',\n",
              " 'mostraram',\n",
              " 'logo',\n",
              " 'que',\n",
              " 'iriam',\n",
              " 'alongar',\n",
              " 'ao',\n",
              " 'máximo',\n",
              " 'suas',\n",
              " 'posses',\n",
              " 'de',\n",
              " 'bola',\n",
              " 'Misturando',\n",
              " 'corridas',\n",
              " 'com',\n",
              " 'Brandon',\n",
              " 'Jacobs',\n",
              " 'e',\n",
              " 'passes',\n",
              " 'curtos',\n",
              " 'o',\n",
              " 'time',\n",
              " 'de',\n",
              " 'Nova',\n",
              " 'York',\n",
              " 'chegou',\n",
              " 'red',\n",
              " 'zone',\n",
              " 'logo',\n",
              " 'na',\n",
              " 'primeira',\n",
              " 'campanha',\n",
              " 'O',\n",
              " 'avanço',\n",
              " 'no',\n",
              " 'entanto',\n",
              " 'parou',\n",
              " 'na',\n",
              " 'linha',\n",
              " 'de',\n",
              " 'jardas',\n",
              " 'e',\n",
              " 'Lawrence',\n",
              " 'Tynes',\n",
              " 'converteu',\n",
              " 'o',\n",
              " 'field',\n",
              " 'goal',\n",
              " 'de',\n",
              " 'jardas',\n",
              " 'para',\n",
              " 'abrir',\n",
              " 'o',\n",
              " 'placar',\n",
              " 'Eli',\n",
              " 'Manning',\n",
              " 'e',\n",
              " 'companhia',\n",
              " 'ficaram',\n",
              " 'm54s',\n",
              " 'com',\n",
              " 'a',\n",
              " 'bola',\n",
              " 'mas',\n",
              " 'o',\n",
              " 'ataque',\n",
              " 'dos',\n",
              " 'Patriots',\n",
              " 'não',\n",
              " 'entrou',\n",
              " 'em',\n",
              " 'campo',\n",
              " 'frio',\n",
              " 'Logo',\n",
              " 'no',\n",
              " 'retorno',\n",
              " 'do',\n",
              " 'kickoff',\n",
              " 'o',\n",
              " 'running',\n",
              " 'back',\n",
              " 'Laurence',\n",
              " 'Maroney',\n",
              " 'avançou',\n",
              " 'jardas',\n",
              " 'deixando',\n",
              " 'Tom',\n",
              " 'Brady',\n",
              " 'em',\n",
              " 'boa',\n",
              " 'posição',\n",
              " 'Com',\n",
              " 'passes',\n",
              " 'curtos',\n",
              " 'os',\n",
              " 'Patriots',\n",
              " 'chegaram',\n",
              " 'linha',\n",
              " 'de',\n",
              " 'jardas',\n",
              " 'e',\n",
              " 'graças',\n",
              " 'a',\n",
              " 'uma',\n",
              " 'penalidade',\n",
              " 'interferência',\n",
              " 'de',\n",
              " 'passe',\n",
              " 'do',\n",
              " 'linebacker',\n",
              " 'Antonio',\n",
              " 'Pierce',\n",
              " 'alcançaram',\n",
              " 'a',\n",
              " 'linha',\n",
              " 'de',\n",
              " 'uma',\n",
              " 'jarda',\n",
              " 'Maroney',\n",
              " 'avançou',\n",
              " 'pelo',\n",
              " 'chão',\n",
              " 'e',\n",
              " 'anotou',\n",
              " 'o',\n",
              " 'primeiro',\n",
              " 'touchdown',\n",
              " 'do',\n",
              " 'jogo',\n",
              " 'Os',\n",
              " 'Giants',\n",
              " 'pareciam',\n",
              " 'rumo',\n",
              " 'virada',\n",
              " 'na',\n",
              " 'campanha',\n",
              " 'seguinte',\n",
              " 'Manning',\n",
              " 'achou',\n",
              " 'Amani',\n",
              " 'Toomer',\n",
              " 'para',\n",
              " 'um',\n",
              " 'avanço',\n",
              " 'de',\n",
              " 'jardas',\n",
              " 'e',\n",
              " 'o',\n",
              " 'time',\n",
              " 'de',\n",
              " 'Nova',\n",
              " 'York',\n",
              " 'entrou',\n",
              " 'novamente',\n",
              " 'na',\n",
              " 'red',\n",
              " 'zone',\n",
              " 'Com',\n",
              " 'a',\n",
              " 'bola',\n",
              " 'na',\n",
              " 'linha',\n",
              " 'de',\n",
              " 'jardas',\n",
              " 'dos',\n",
              " 'Patriots',\n",
              " 'os',\n",
              " 'Giants',\n",
              " 'sofreram',\n",
              " 'um',\n",
              " 'revés',\n",
              " 'Manning',\n",
              " 'passou',\n",
              " 'para',\n",
              " 'Steve',\n",
              " 'Smith',\n",
              " 'que',\n",
              " 'soltou',\n",
              " 'a',\n",
              " 'bola',\n",
              " 'Ellis',\n",
              " 'Hobbs',\n",
              " 'aproveitou',\n",
              " 'tomou',\n",
              " 'a',\n",
              " 'posse',\n",
              " 'para',\n",
              " 'os',\n",
              " 'Patriots',\n",
              " 'e',\n",
              " 'avançou',\n",
              " 'jardas',\n",
              " 'A',\n",
              " 'defesa',\n",
              " 'de',\n",
              " 'Nova',\n",
              " 'York',\n",
              " 'manteve',\n",
              " 'o',\n",
              " 'jogo',\n",
              " 'equilibrado',\n",
              " 'Com',\n",
              " 'dois',\n",
              " 'sacks',\n",
              " 'seguidos',\n",
              " 'os',\n",
              " 'Giants',\n",
              " 'forçaram',\n",
              " 'o',\n",
              " 'punt',\n",
              " 'e',\n",
              " 'recuperaram',\n",
              " 'a',\n",
              " 'bola',\n",
              " 'Mas',\n",
              " 'a',\n",
              " 'campanha',\n",
              " 'seguinte',\n",
              " 'provou',\n",
              " 'ser',\n",
              " 'outra',\n",
              " 'decepção',\n",
              " 'para',\n",
              " 'Nova',\n",
              " 'York',\n",
              " 'O',\n",
              " 'time',\n",
              " 'chegou',\n",
              " 'linha',\n",
              " 'de',\n",
              " 'jardas',\n",
              " 'mas',\n",
              " 'Manning',\n",
              " 'sofreu',\n",
              " 'um',\n",
              " 'sack',\n",
              " 'e',\n",
              " 'cometeu',\n",
              " 'um',\n",
              " 'fumble',\n",
              " 'e',\n",
              " 'o',\n",
              " 'ataque',\n",
              " 'voltou',\n",
              " 'para',\n",
              " 'a',\n",
              " 'linha',\n",
              " 'de',\n",
              " 'jardas',\n",
              " 'não',\n",
              " 'conseguindo',\n",
              " 'pontuar',\n",
              " 'mais',\n",
              " 'uma',\n",
              " 'vez',\n",
              " 'Os',\n",
              " 'Patriots',\n",
              " 'tiveram',\n",
              " 'uma',\n",
              " 'ltima',\n",
              " 'chance',\n",
              " 'de',\n",
              " 'marcar',\n",
              " 'antes',\n",
              " 'do',\n",
              " 'intervalo',\n",
              " 'mas',\n",
              " 'a',\n",
              " 'segundos',\n",
              " 'do',\n",
              " 'fim',\n",
              " 'do',\n",
              " 'segundo',\n",
              " 'período',\n",
              " 'Brady',\n",
              " 'foi',\n",
              " 'novamente',\n",
              " 'sacado',\n",
              " 'Desta',\n",
              " 'vez',\n",
              " 'ele',\n",
              " 'cometeu',\n",
              " 'o',\n",
              " 'fumble',\n",
              " 'e',\n",
              " 'os',\n",
              " 'Giants',\n",
              " 'tomaram',\n",
              " 'a',\n",
              " 'posse',\n",
              " 'de',\n",
              " 'bola',\n",
              " 'Manning',\n",
              " 'tentou',\n",
              " 'um',\n",
              " 'passe',\n",
              " 'longo',\n",
              " 'de',\n",
              " 'jardas',\n",
              " 'nos',\n",
              " 'ltimos',\n",
              " 'segundos',\n",
              " 'mas',\n",
              " 'não',\n",
              " 'teve',\n",
              " 'sucesso',\n",
              " 'O',\n",
              " 'jogo',\n",
              " 'continuou',\n",
              " 'amarrado',\n",
              " 'no',\n",
              " 'terceiro',\n",
              " 'quarto',\n",
              " 'com',\n",
              " 'as',\n",
              " 'defesas',\n",
              " 'levando',\n",
              " 'a',\n",
              " 'melhor',\n",
              " 'sobre',\n",
              " 'os',\n",
              " 'ataques',\n",
              " 'A',\n",
              " 'nica',\n",
              " 'chance',\n",
              " 'de',\n",
              " 'pontuar',\n",
              " 'do',\n",
              " 'período',\n",
              " 'foi',\n",
              " 'dos',\n",
              " 'Patriots',\n",
              " 'que',\n",
              " 'chegaram',\n",
              " 'linha',\n",
              " 'de',\n",
              " 'jardas',\n",
              " 'dos',\n",
              " 'Giants',\n",
              " 'O',\n",
              " 'técnico',\n",
              " 'Bill',\n",
              " 'Bellichick',\n",
              " 'porém',\n",
              " 'optou',\n",
              " 'por',\n",
              " 'uma',\n",
              " 'quarta',\n",
              " 'descida',\n",
              " 'em',\n",
              " 'vez',\n",
              " 'de',\n",
              " 'um',\n",
              " 'field',\n",
              " 'goal',\n",
              " 'Brady',\n",
              " 'tentou',\n",
              " 'um',\n",
              " 'passe',\n",
              " 'para',\n",
              " 'Jabar',\n",
              " 'Gaffney',\n",
              " 'mas',\n",
              " 'não',\n",
              " 'conseguiu',\n",
              " 'completar',\n",
              " 'O',\n",
              " 'ltimo',\n",
              " 'período',\n",
              " 'começou',\n",
              " 'arrasador',\n",
              " 'para',\n",
              " 'os',\n",
              " 'Giants',\n",
              " 'na',\n",
              " 'primeira',\n",
              " 'jogada',\n",
              " 'Manning',\n",
              " 'achou',\n",
              " 'o',\n",
              " 'tight',\n",
              " 'end',\n",
              " 'Kevin',\n",
              " 'Boss',\n",
              " 'para',\n",
              " 'um',\n",
              " 'incrível',\n",
              " 'avanço',\n",
              " 'de',\n",
              " 'jardas',\n",
              " 'que',\n",
              " 'deixou',\n",
              " 'o',\n",
              " 'time',\n",
              " 'na',\n",
              " 'linha',\n",
              " 'de',\n",
              " 'dos',\n",
              " 'Patriots',\n",
              " 'Outro',\n",
              " 'lançamento',\n",
              " 'desta',\n",
              " 'vez',\n",
              " 'para',\n",
              " 'Steve',\n",
              " 'Smith',\n",
              " 'marcou',\n",
              " 'o',\n",
              " 'avanço',\n",
              " 'até',\n",
              " 'a',\n",
              " 'linha',\n",
              " 'de',\n",
              " 'jardas',\n",
              " 'Duas',\n",
              " 'jogadas',\n",
              " 'depois',\n",
              " 'David',\n",
              " 'Tyree',\n",
              " 'pegou',\n",
              " 'um',\n",
              " 'passe',\n",
              " 'de',\n",
              " 'cinco',\n",
              " 'jardas',\n",
              " 'na',\n",
              " 'end',\n",
              " 'zone',\n",
              " 'para',\n",
              " 'anotar',\n",
              " 'o',\n",
              " 'touchdown',\n",
              " 'e',\n",
              " 'virar',\n",
              " 'o',\n",
              " 'jogo',\n",
              " 'Na',\n",
              " 'hora',\n",
              " 'da',\n",
              " 'decisão',\n",
              " 'o',\n",
              " 'ataque',\n",
              " 'dos',\n",
              " 'Patriots',\n",
              " 'voltou',\n",
              " 'a',\n",
              " 'funcionar',\n",
              " 'Com',\n",
              " 'uma',\n",
              " 'série',\n",
              " 'de',\n",
              " 'passes',\n",
              " 'curtos',\n",
              " 'e',\n",
              " 'variados',\n",
              " 'Brady',\n",
              " 'achou',\n",
              " 'Wes',\n",
              " 'Welker',\n",
              " 'Randy',\n",
              " 'Moss',\n",
              " 'e',\n",
              " 'Kevin',\n",
              " 'Faulk',\n",
              " 'seguidas',\n",
              " 'vezes',\n",
              " 'até',\n",
              " 'chegar',\n",
              " 'red',\n",
              " 'zone',\n",
              " 'A',\n",
              " 'm45s',\n",
              " 'do',\n",
              " 'fim',\n",
              " 'o',\n",
              " 'quarterback',\n",
              " 'conectou',\n",
              " 'mais',\n",
              " 'uma',\n",
              " 'vez',\n",
              " 'com',\n",
              " 'Moss',\n",
              " 'que',\n",
              " 'se',\n",
              " 'desmarcou',\n",
              " 'e',\n",
              " 'ficou',\n",
              " 'livre',\n",
              " 'na',\n",
              " 'lateral',\n",
              " 'direita',\n",
              " 'da',\n",
              " 'end',\n",
              " 'zone',\n",
              " 'Quando',\n",
              " 'os',\n",
              " 'fãs',\n",
              " 'de',\n",
              " 'New',\n",
              " 'England',\n",
              " 'já',\n",
              " 'comemoravam',\n",
              " 'a',\n",
              " 'vitória',\n",
              " 'o',\n",
              " 'inesperado',\n",
              " 'aconteceu',\n",
              " 'Em',\n",
              " 'uma',\n",
              " 'jogada',\n",
              " 'incrível',\n",
              " 'Eli',\n",
              " 'Manning',\n",
              " 'se',\n",
              " 'soltou',\n",
              " 'de',\n",
              " 'dois',\n",
              " 'marcadores',\n",
              " 'que',\n",
              " 'o',\n",
              " 'seguravam',\n",
              " 'pela',\n",
              " 'camisa',\n",
              " 'e',\n",
              " 'na',\n",
              " 'corrida',\n",
              " 'lançou',\n",
              " 'para',\n",
              " 'Amani',\n",
              " 'Toomer',\n",
              " 'O',\n",
              " 'wide',\n",
              " 'receiver',\n",
              " 'bem',\n",
              " 'marcado',\n",
              " 'saltou',\n",
              " 'e',\n",
              " 'conseguiu',\n",
              " 'a',\n",
              " 'fazer',\n",
              " 'recepção',\n",
              " 'para',\n",
              " 'um',\n",
              " 'avanço',\n",
              " 'de',\n",
              " 'jardas',\n",
              " 'deixando',\n",
              " 'os',\n",
              " 'Giants',\n",
              " 'na',\n",
              " 'linha',\n",
              " 'de',\n",
              " 'de',\n",
              " 'New',\n",
              " 'England',\n",
              " 'Quatro',\n",
              " 'jogadas',\n",
              " 'depois',\n",
              " 'a',\n",
              " 'segundos',\n",
              " 'do',\n",
              " 'fim',\n",
              " 'Manning',\n",
              " 'achou',\n",
              " 'Plaxico',\n",
              " 'Burress',\n",
              " 'na',\n",
              " 'end',\n",
              " 'zone',\n",
              " 'para',\n",
              " 'conseguir',\n",
              " 'o',\n",
              " 'touchdown',\n",
              " 'do',\n",
              " 'título']"
            ]
          },
          "metadata": {},
          "execution_count": 39
        }
      ]
    },
    {
      "cell_type": "code",
      "metadata": {
        "colab": {
          "base_uri": "https://localhost:8080/"
        },
        "id": "o_EUeg03bhMq",
        "outputId": "9aac03c5-b8d9-46ce-ebc9-d384e5ca70d0"
      },
      "source": [
        "len(apenas_palavras)"
      ],
      "execution_count": 40,
      "outputs": [
        {
          "output_type": "execute_result",
          "data": {
            "text/plain": [
              "726"
            ]
          },
          "metadata": {},
          "execution_count": 40
        }
      ]
    },
    {
      "cell_type": "code",
      "metadata": {
        "colab": {
          "base_uri": "https://localhost:8080/"
        },
        "id": "Iq7WdM9gbil0",
        "outputId": "232f5a48-4474-4b2b-a15e-82e91a298d37"
      },
      "source": [
        "frequencia_palavras = nltk.FreqDist(palavra.lower() for palavra in apenas_palavras)\n",
        "frequencia_palavras.most_common()"
      ],
      "execution_count": 45,
      "outputs": [
        {
          "output_type": "execute_result",
          "data": {
            "text/plain": [
              "[('de', 34),\n",
              " ('o', 33),\n",
              " ('a', 28),\n",
              " ('e', 21),\n",
              " ('para', 16),\n",
              " ('jardas', 15),\n",
              " ('os', 13),\n",
              " ('com', 13),\n",
              " ('na', 13),\n",
              " ('do', 12),\n",
              " ('giants', 11),\n",
              " ('um', 11),\n",
              " ('patriots', 10),\n",
              " ('manning', 10),\n",
              " ('uma', 10),\n",
              " ('linha', 10),\n",
              " ('no', 8),\n",
              " ('em', 7),\n",
              " ('que', 7),\n",
              " ('dos', 7),\n",
              " ('bola', 7),\n",
              " ('da', 6),\n",
              " ('vez', 6),\n",
              " ('zone', 6),\n",
              " ('mas', 6),\n",
              " ('new', 5),\n",
              " ('passe', 5),\n",
              " ('york', 5),\n",
              " ('brady', 5),\n",
              " ('avanço', 5),\n",
              " ('super', 4),\n",
              " ('bowl', 4),\n",
              " ('england', 4),\n",
              " ('eli', 4),\n",
              " ('segundos', 4),\n",
              " ('fim', 4),\n",
              " ('touchdown', 4),\n",
              " ('time', 4),\n",
              " ('nova', 4),\n",
              " ('não', 4),\n",
              " ('jogo', 4),\n",
              " ('achou', 4),\n",
              " ('end', 4),\n",
              " ('título', 3),\n",
              " ('história', 3),\n",
              " ('ao', 3),\n",
              " ('primeira', 3),\n",
              " ('chegou', 3),\n",
              " ('posse', 3),\n",
              " ('logo', 3),\n",
              " ('passes', 3),\n",
              " ('curtos', 3),\n",
              " ('red', 3),\n",
              " ('campanha', 3),\n",
              " ('ataque', 3),\n",
              " ('avançou', 3),\n",
              " ('período', 3),\n",
              " ('xlii', 2),\n",
              " ('temporada', 2),\n",
              " ('plaxico', 2),\n",
              " ('burress', 2),\n",
              " ('anotou', 2),\n",
              " ('por', 2),\n",
              " ('tom', 2),\n",
              " ('companhia', 2),\n",
              " ('fazer', 2),\n",
              " ('nfl', 2),\n",
              " ('ano', 2),\n",
              " ('vitória', 2),\n",
              " ('porém', 2),\n",
              " ('pela', 2),\n",
              " ('máximo', 2),\n",
              " ('pelo', 2),\n",
              " ('field', 2),\n",
              " ('goal', 2),\n",
              " ('entrou', 2),\n",
              " ('maroney', 2),\n",
              " ('deixando', 2),\n",
              " ('chegaram', 2),\n",
              " ('seguinte', 2),\n",
              " ('amani', 2),\n",
              " ('toomer', 2),\n",
              " ('novamente', 2),\n",
              " ('steve', 2),\n",
              " ('smith', 2),\n",
              " ('soltou', 2),\n",
              " ('dois', 2),\n",
              " ('cometeu', 2),\n",
              " ('fumble', 2),\n",
              " ('voltou', 2),\n",
              " ('pontuar', 2),\n",
              " ('mais', 2),\n",
              " ('chance', 2),\n",
              " ('foi', 2),\n",
              " ('desta', 2),\n",
              " ('tentou', 2),\n",
              " ('conseguiu', 2),\n",
              " ('jogada', 2),\n",
              " ('kevin', 2),\n",
              " ('incrível', 2),\n",
              " ('até', 2),\n",
              " ('jogadas', 2),\n",
              " ('depois', 2),\n",
              " ('moss', 2),\n",
              " ('se', 2),\n",
              " ('batem', 1),\n",
              " ('azarões', 1),\n",
              " ('acabam', 1),\n",
              " ('invencibilidade', 1),\n",
              " ('ficam', 1),\n",
              " ('h07m', 1),\n",
              " ('atualizado', 1),\n",
              " ('h49m', 1),\n",
              " ('decisivo', 1),\n",
              " ('derrubou', 1),\n",
              " ('favorito', 1),\n",
              " ('neste', 1),\n",
              " ('domingo', 1),\n",
              " ('glendale', 1),\n",
              " ('resultado', 1),\n",
              " ('das', 1),\n",
              " ('maiores', 1),\n",
              " ('zebras', 1),\n",
              " ('acabou', 1),\n",
              " ('perfeita', 1),\n",
              " ('esperavam', 1),\n",
              " ('levantar', 1),\n",
              " ('troféu', 1),\n",
              " ('sem', 1),\n",
              " ('sofrer', 1),\n",
              " ('derrota', 1),\n",
              " ('também', 1),\n",
              " ('ficará', 1),\n",
              " ('irmãos', 1),\n",
              " ('quarterbacks', 1),\n",
              " ('triunfam', 1),\n",
              " ('temporadas', 1),\n",
              " ('consecutivas', 1),\n",
              " ('passado', 1),\n",
              " ('peyton', 1),\n",
              " ('irmão', 1),\n",
              " ('indianapolis', 1),\n",
              " ('colts', 1),\n",
              " ('partida', 1),\n",
              " ('começaram', 1),\n",
              " ('mostraram', 1),\n",
              " ('iriam', 1),\n",
              " ('alongar', 1),\n",
              " ('suas', 1),\n",
              " ('posses', 1),\n",
              " ('misturando', 1),\n",
              " ('corridas', 1),\n",
              " ('brandon', 1),\n",
              " ('jacobs', 1),\n",
              " ('entanto', 1),\n",
              " ('parou', 1),\n",
              " ('lawrence', 1),\n",
              " ('tynes', 1),\n",
              " ('converteu', 1),\n",
              " ('abrir', 1),\n",
              " ('placar', 1),\n",
              " ('ficaram', 1),\n",
              " ('m54s', 1),\n",
              " ('campo', 1),\n",
              " ('frio', 1),\n",
              " ('retorno', 1),\n",
              " ('kickoff', 1),\n",
              " ('running', 1),\n",
              " ('back', 1),\n",
              " ('laurence', 1),\n",
              " ('boa', 1),\n",
              " ('posição', 1),\n",
              " ('graças', 1),\n",
              " ('penalidade', 1),\n",
              " ('interferência', 1),\n",
              " ('linebacker', 1),\n",
              " ('antonio', 1),\n",
              " ('pierce', 1),\n",
              " ('alcançaram', 1),\n",
              " ('jarda', 1),\n",
              " ('chão', 1),\n",
              " ('primeiro', 1),\n",
              " ('pareciam', 1),\n",
              " ('rumo', 1),\n",
              " ('virada', 1),\n",
              " ('sofreram', 1),\n",
              " ('revés', 1),\n",
              " ('passou', 1),\n",
              " ('ellis', 1),\n",
              " ('hobbs', 1),\n",
              " ('aproveitou', 1),\n",
              " ('tomou', 1),\n",
              " ('defesa', 1),\n",
              " ('manteve', 1),\n",
              " ('equilibrado', 1),\n",
              " ('sacks', 1),\n",
              " ('seguidos', 1),\n",
              " ('forçaram', 1),\n",
              " ('punt', 1),\n",
              " ('recuperaram', 1),\n",
              " ('provou', 1),\n",
              " ('ser', 1),\n",
              " ('outra', 1),\n",
              " ('decepção', 1),\n",
              " ('sofreu', 1),\n",
              " ('sack', 1),\n",
              " ('conseguindo', 1),\n",
              " ('tiveram', 1),\n",
              " ('ltima', 1),\n",
              " ('marcar', 1),\n",
              " ('antes', 1),\n",
              " ('intervalo', 1),\n",
              " ('segundo', 1),\n",
              " ('sacado', 1),\n",
              " ('ele', 1),\n",
              " ('tomaram', 1),\n",
              " ('longo', 1),\n",
              " ('nos', 1),\n",
              " ('ltimos', 1),\n",
              " ('teve', 1),\n",
              " ('sucesso', 1),\n",
              " ('continuou', 1),\n",
              " ('amarrado', 1),\n",
              " ('terceiro', 1),\n",
              " ('quarto', 1),\n",
              " ('as', 1),\n",
              " ('defesas', 1),\n",
              " ('levando', 1),\n",
              " ('melhor', 1),\n",
              " ('sobre', 1),\n",
              " ('ataques', 1),\n",
              " ('nica', 1),\n",
              " ('técnico', 1),\n",
              " ('bill', 1),\n",
              " ('bellichick', 1),\n",
              " ('optou', 1),\n",
              " ('quarta', 1),\n",
              " ('descida', 1),\n",
              " ('jabar', 1),\n",
              " ('gaffney', 1),\n",
              " ('completar', 1),\n",
              " ('ltimo', 1),\n",
              " ('começou', 1),\n",
              " ('arrasador', 1),\n",
              " ('tight', 1),\n",
              " ('boss', 1),\n",
              " ('deixou', 1),\n",
              " ('outro', 1),\n",
              " ('lançamento', 1),\n",
              " ('marcou', 1),\n",
              " ('duas', 1),\n",
              " ('david', 1),\n",
              " ('tyree', 1),\n",
              " ('pegou', 1),\n",
              " ('cinco', 1),\n",
              " ('anotar', 1),\n",
              " ('virar', 1),\n",
              " ('hora', 1),\n",
              " ('decisão', 1),\n",
              " ('funcionar', 1),\n",
              " ('série', 1),\n",
              " ('variados', 1),\n",
              " ('wes', 1),\n",
              " ('welker', 1),\n",
              " ('randy', 1),\n",
              " ('faulk', 1),\n",
              " ('seguidas', 1),\n",
              " ('vezes', 1),\n",
              " ('chegar', 1),\n",
              " ('m45s', 1),\n",
              " ('quarterback', 1),\n",
              " ('conectou', 1),\n",
              " ('desmarcou', 1),\n",
              " ('ficou', 1),\n",
              " ('livre', 1),\n",
              " ('lateral', 1),\n",
              " ('direita', 1),\n",
              " ('quando', 1),\n",
              " ('fãs', 1),\n",
              " ('já', 1),\n",
              " ('comemoravam', 1),\n",
              " ('inesperado', 1),\n",
              " ('aconteceu', 1),\n",
              " ('marcadores', 1),\n",
              " ('seguravam', 1),\n",
              " ('camisa', 1),\n",
              " ('corrida', 1),\n",
              " ('lançou', 1),\n",
              " ('wide', 1),\n",
              " ('receiver', 1),\n",
              " ('bem', 1),\n",
              " ('marcado', 1),\n",
              " ('saltou', 1),\n",
              " ('recepção', 1),\n",
              " ('quatro', 1),\n",
              " ('conseguir', 1)]"
            ]
          },
          "metadata": {},
          "execution_count": 45
        }
      ]
    },
    {
      "cell_type": "code",
      "metadata": {
        "colab": {
          "base_uri": "https://localhost:8080/"
        },
        "id": "otPM_87tb_Jq",
        "outputId": "a30525e9-4a3b-49e7-a8f3-7e6d20a2f4bc"
      },
      "source": [
        "frequencia_palavras.most_common(5)"
      ],
      "execution_count": 46,
      "outputs": [
        {
          "output_type": "execute_result",
          "data": {
            "text/plain": [
              "[('de', 34), ('o', 33), ('a', 28), ('e', 21), ('para', 16)]"
            ]
          },
          "metadata": {},
          "execution_count": 46
        }
      ]
    },
    {
      "cell_type": "code",
      "metadata": {
        "colab": {
          "base_uri": "https://localhost:8080/"
        },
        "id": "I_LfAF_Qb5OJ",
        "outputId": "5c7650fd-b46e-4d93-c6c6-0bcd1a99e086"
      },
      "source": [
        "frequencia_palavras.most_common(10)"
      ],
      "execution_count": 47,
      "outputs": [
        {
          "output_type": "execute_result",
          "data": {
            "text/plain": [
              "[('de', 34),\n",
              " ('o', 33),\n",
              " ('a', 28),\n",
              " ('e', 21),\n",
              " ('para', 16),\n",
              " ('jardas', 15),\n",
              " ('os', 13),\n",
              " ('com', 13),\n",
              " ('na', 13),\n",
              " ('do', 12)]"
            ]
          },
          "metadata": {},
          "execution_count": 47
        }
      ]
    },
    {
      "cell_type": "code",
      "metadata": {
        "colab": {
          "base_uri": "https://localhost:8080/"
        },
        "id": "W73vJlHAcBNO",
        "outputId": "cc5dca12-32d6-49c6-99ba-1480f40f16e3"
      },
      "source": [
        "frequencia_palavras.most_common(15)"
      ],
      "execution_count": 48,
      "outputs": [
        {
          "output_type": "execute_result",
          "data": {
            "text/plain": [
              "[('de', 34),\n",
              " ('o', 33),\n",
              " ('a', 28),\n",
              " ('e', 21),\n",
              " ('para', 16),\n",
              " ('jardas', 15),\n",
              " ('os', 13),\n",
              " ('com', 13),\n",
              " ('na', 13),\n",
              " ('do', 12),\n",
              " ('giants', 11),\n",
              " ('um', 11),\n",
              " ('patriots', 10),\n",
              " ('manning', 10),\n",
              " ('uma', 10)]"
            ]
          },
          "metadata": {},
          "execution_count": 48
        }
      ]
    },
    {
      "cell_type": "code",
      "metadata": {
        "colab": {
          "base_uri": "https://localhost:8080/"
        },
        "id": "BLyuQ0excC1q",
        "outputId": "7d255f66-9161-4ff2-e02b-63d5a3eae5e1"
      },
      "source": [
        "nltk.download('stopwords')\n",
        "\n",
        "lista_stopwords = nltk.corpus.stopwords.words('portuguese')\n",
        "lista_stopwords"
      ],
      "execution_count": 50,
      "outputs": [
        {
          "output_type": "stream",
          "name": "stdout",
          "text": [
            "[nltk_data] Downloading package stopwords to /root/nltk_data...\n",
            "[nltk_data]   Unzipping corpora/stopwords.zip.\n"
          ]
        },
        {
          "output_type": "execute_result",
          "data": {
            "text/plain": [
              "['de',\n",
              " 'a',\n",
              " 'o',\n",
              " 'que',\n",
              " 'e',\n",
              " 'é',\n",
              " 'do',\n",
              " 'da',\n",
              " 'em',\n",
              " 'um',\n",
              " 'para',\n",
              " 'com',\n",
              " 'não',\n",
              " 'uma',\n",
              " 'os',\n",
              " 'no',\n",
              " 'se',\n",
              " 'na',\n",
              " 'por',\n",
              " 'mais',\n",
              " 'as',\n",
              " 'dos',\n",
              " 'como',\n",
              " 'mas',\n",
              " 'ao',\n",
              " 'ele',\n",
              " 'das',\n",
              " 'à',\n",
              " 'seu',\n",
              " 'sua',\n",
              " 'ou',\n",
              " 'quando',\n",
              " 'muito',\n",
              " 'nos',\n",
              " 'já',\n",
              " 'eu',\n",
              " 'também',\n",
              " 'só',\n",
              " 'pelo',\n",
              " 'pela',\n",
              " 'até',\n",
              " 'isso',\n",
              " 'ela',\n",
              " 'entre',\n",
              " 'depois',\n",
              " 'sem',\n",
              " 'mesmo',\n",
              " 'aos',\n",
              " 'seus',\n",
              " 'quem',\n",
              " 'nas',\n",
              " 'me',\n",
              " 'esse',\n",
              " 'eles',\n",
              " 'você',\n",
              " 'essa',\n",
              " 'num',\n",
              " 'nem',\n",
              " 'suas',\n",
              " 'meu',\n",
              " 'às',\n",
              " 'minha',\n",
              " 'numa',\n",
              " 'pelos',\n",
              " 'elas',\n",
              " 'qual',\n",
              " 'nós',\n",
              " 'lhe',\n",
              " 'deles',\n",
              " 'essas',\n",
              " 'esses',\n",
              " 'pelas',\n",
              " 'este',\n",
              " 'dele',\n",
              " 'tu',\n",
              " 'te',\n",
              " 'vocês',\n",
              " 'vos',\n",
              " 'lhes',\n",
              " 'meus',\n",
              " 'minhas',\n",
              " 'teu',\n",
              " 'tua',\n",
              " 'teus',\n",
              " 'tuas',\n",
              " 'nosso',\n",
              " 'nossa',\n",
              " 'nossos',\n",
              " 'nossas',\n",
              " 'dela',\n",
              " 'delas',\n",
              " 'esta',\n",
              " 'estes',\n",
              " 'estas',\n",
              " 'aquele',\n",
              " 'aquela',\n",
              " 'aqueles',\n",
              " 'aquelas',\n",
              " 'isto',\n",
              " 'aquilo',\n",
              " 'estou',\n",
              " 'está',\n",
              " 'estamos',\n",
              " 'estão',\n",
              " 'estive',\n",
              " 'esteve',\n",
              " 'estivemos',\n",
              " 'estiveram',\n",
              " 'estava',\n",
              " 'estávamos',\n",
              " 'estavam',\n",
              " 'estivera',\n",
              " 'estivéramos',\n",
              " 'esteja',\n",
              " 'estejamos',\n",
              " 'estejam',\n",
              " 'estivesse',\n",
              " 'estivéssemos',\n",
              " 'estivessem',\n",
              " 'estiver',\n",
              " 'estivermos',\n",
              " 'estiverem',\n",
              " 'hei',\n",
              " 'há',\n",
              " 'havemos',\n",
              " 'hão',\n",
              " 'houve',\n",
              " 'houvemos',\n",
              " 'houveram',\n",
              " 'houvera',\n",
              " 'houvéramos',\n",
              " 'haja',\n",
              " 'hajamos',\n",
              " 'hajam',\n",
              " 'houvesse',\n",
              " 'houvéssemos',\n",
              " 'houvessem',\n",
              " 'houver',\n",
              " 'houvermos',\n",
              " 'houverem',\n",
              " 'houverei',\n",
              " 'houverá',\n",
              " 'houveremos',\n",
              " 'houverão',\n",
              " 'houveria',\n",
              " 'houveríamos',\n",
              " 'houveriam',\n",
              " 'sou',\n",
              " 'somos',\n",
              " 'são',\n",
              " 'era',\n",
              " 'éramos',\n",
              " 'eram',\n",
              " 'fui',\n",
              " 'foi',\n",
              " 'fomos',\n",
              " 'foram',\n",
              " 'fora',\n",
              " 'fôramos',\n",
              " 'seja',\n",
              " 'sejamos',\n",
              " 'sejam',\n",
              " 'fosse',\n",
              " 'fôssemos',\n",
              " 'fossem',\n",
              " 'for',\n",
              " 'formos',\n",
              " 'forem',\n",
              " 'serei',\n",
              " 'será',\n",
              " 'seremos',\n",
              " 'serão',\n",
              " 'seria',\n",
              " 'seríamos',\n",
              " 'seriam',\n",
              " 'tenho',\n",
              " 'tem',\n",
              " 'temos',\n",
              " 'tém',\n",
              " 'tinha',\n",
              " 'tínhamos',\n",
              " 'tinham',\n",
              " 'tive',\n",
              " 'teve',\n",
              " 'tivemos',\n",
              " 'tiveram',\n",
              " 'tivera',\n",
              " 'tivéramos',\n",
              " 'tenha',\n",
              " 'tenhamos',\n",
              " 'tenham',\n",
              " 'tivesse',\n",
              " 'tivéssemos',\n",
              " 'tivessem',\n",
              " 'tiver',\n",
              " 'tivermos',\n",
              " 'tiverem',\n",
              " 'terei',\n",
              " 'terá',\n",
              " 'teremos',\n",
              " 'terão',\n",
              " 'teria',\n",
              " 'teríamos',\n",
              " 'teriam']"
            ]
          },
          "metadata": {},
          "execution_count": 50
        }
      ]
    },
    {
      "cell_type": "code",
      "metadata": {
        "colab": {
          "base_uri": "https://localhost:8080/"
        },
        "id": "ZEjOFmqdcrzZ",
        "outputId": "e1aa2286-43f9-4635-e21a-5f9b8fce2eaa"
      },
      "source": [
        "lista_sem_stopwords = [palavra.lower() for palavra in apenas_palavras if palavra.lower() not in lista_stopwords]\n",
        "nova_frequencia = nltk.FreqDist(lista_sem_stopwords)\n",
        "nova_frequencia.most_common()"
      ],
      "execution_count": 52,
      "outputs": [
        {
          "output_type": "execute_result",
          "data": {
            "text/plain": [
              "[('jardas', 15),\n",
              " ('giants', 11),\n",
              " ('patriots', 10),\n",
              " ('manning', 10),\n",
              " ('linha', 10),\n",
              " ('bola', 7),\n",
              " ('vez', 6),\n",
              " ('zone', 6),\n",
              " ('new', 5),\n",
              " ('passe', 5),\n",
              " ('york', 5),\n",
              " ('brady', 5),\n",
              " ('avanço', 5),\n",
              " ('super', 4),\n",
              " ('bowl', 4),\n",
              " ('england', 4),\n",
              " ('eli', 4),\n",
              " ('segundos', 4),\n",
              " ('fim', 4),\n",
              " ('touchdown', 4),\n",
              " ('time', 4),\n",
              " ('nova', 4),\n",
              " ('jogo', 4),\n",
              " ('achou', 4),\n",
              " ('end', 4),\n",
              " ('título', 3),\n",
              " ('história', 3),\n",
              " ('primeira', 3),\n",
              " ('chegou', 3),\n",
              " ('posse', 3),\n",
              " ('logo', 3),\n",
              " ('passes', 3),\n",
              " ('curtos', 3),\n",
              " ('red', 3),\n",
              " ('campanha', 3),\n",
              " ('ataque', 3),\n",
              " ('avançou', 3),\n",
              " ('período', 3),\n",
              " ('xlii', 2),\n",
              " ('temporada', 2),\n",
              " ('plaxico', 2),\n",
              " ('burress', 2),\n",
              " ('anotou', 2),\n",
              " ('tom', 2),\n",
              " ('companhia', 2),\n",
              " ('fazer', 2),\n",
              " ('nfl', 2),\n",
              " ('ano', 2),\n",
              " ('vitória', 2),\n",
              " ('porém', 2),\n",
              " ('máximo', 2),\n",
              " ('field', 2),\n",
              " ('goal', 2),\n",
              " ('entrou', 2),\n",
              " ('maroney', 2),\n",
              " ('deixando', 2),\n",
              " ('chegaram', 2),\n",
              " ('seguinte', 2),\n",
              " ('amani', 2),\n",
              " ('toomer', 2),\n",
              " ('novamente', 2),\n",
              " ('steve', 2),\n",
              " ('smith', 2),\n",
              " ('soltou', 2),\n",
              " ('dois', 2),\n",
              " ('cometeu', 2),\n",
              " ('fumble', 2),\n",
              " ('voltou', 2),\n",
              " ('pontuar', 2),\n",
              " ('chance', 2),\n",
              " ('desta', 2),\n",
              " ('tentou', 2),\n",
              " ('conseguiu', 2),\n",
              " ('jogada', 2),\n",
              " ('kevin', 2),\n",
              " ('incrível', 2),\n",
              " ('jogadas', 2),\n",
              " ('moss', 2),\n",
              " ('batem', 1),\n",
              " ('azarões', 1),\n",
              " ('acabam', 1),\n",
              " ('invencibilidade', 1),\n",
              " ('ficam', 1),\n",
              " ('h07m', 1),\n",
              " ('atualizado', 1),\n",
              " ('h49m', 1),\n",
              " ('decisivo', 1),\n",
              " ('derrubou', 1),\n",
              " ('favorito', 1),\n",
              " ('neste', 1),\n",
              " ('domingo', 1),\n",
              " ('glendale', 1),\n",
              " ('resultado', 1),\n",
              " ('maiores', 1),\n",
              " ('zebras', 1),\n",
              " ('acabou', 1),\n",
              " ('perfeita', 1),\n",
              " ('esperavam', 1),\n",
              " ('levantar', 1),\n",
              " ('troféu', 1),\n",
              " ('sofrer', 1),\n",
              " ('derrota', 1),\n",
              " ('ficará', 1),\n",
              " ('irmãos', 1),\n",
              " ('quarterbacks', 1),\n",
              " ('triunfam', 1),\n",
              " ('temporadas', 1),\n",
              " ('consecutivas', 1),\n",
              " ('passado', 1),\n",
              " ('peyton', 1),\n",
              " ('irmão', 1),\n",
              " ('indianapolis', 1),\n",
              " ('colts', 1),\n",
              " ('partida', 1),\n",
              " ('começaram', 1),\n",
              " ('mostraram', 1),\n",
              " ('iriam', 1),\n",
              " ('alongar', 1),\n",
              " ('posses', 1),\n",
              " ('misturando', 1),\n",
              " ('corridas', 1),\n",
              " ('brandon', 1),\n",
              " ('jacobs', 1),\n",
              " ('entanto', 1),\n",
              " ('parou', 1),\n",
              " ('lawrence', 1),\n",
              " ('tynes', 1),\n",
              " ('converteu', 1),\n",
              " ('abrir', 1),\n",
              " ('placar', 1),\n",
              " ('ficaram', 1),\n",
              " ('m54s', 1),\n",
              " ('campo', 1),\n",
              " ('frio', 1),\n",
              " ('retorno', 1),\n",
              " ('kickoff', 1),\n",
              " ('running', 1),\n",
              " ('back', 1),\n",
              " ('laurence', 1),\n",
              " ('boa', 1),\n",
              " ('posição', 1),\n",
              " ('graças', 1),\n",
              " ('penalidade', 1),\n",
              " ('interferência', 1),\n",
              " ('linebacker', 1),\n",
              " ('antonio', 1),\n",
              " ('pierce', 1),\n",
              " ('alcançaram', 1),\n",
              " ('jarda', 1),\n",
              " ('chão', 1),\n",
              " ('primeiro', 1),\n",
              " ('pareciam', 1),\n",
              " ('rumo', 1),\n",
              " ('virada', 1),\n",
              " ('sofreram', 1),\n",
              " ('revés', 1),\n",
              " ('passou', 1),\n",
              " ('ellis', 1),\n",
              " ('hobbs', 1),\n",
              " ('aproveitou', 1),\n",
              " ('tomou', 1),\n",
              " ('defesa', 1),\n",
              " ('manteve', 1),\n",
              " ('equilibrado', 1),\n",
              " ('sacks', 1),\n",
              " ('seguidos', 1),\n",
              " ('forçaram', 1),\n",
              " ('punt', 1),\n",
              " ('recuperaram', 1),\n",
              " ('provou', 1),\n",
              " ('ser', 1),\n",
              " ('outra', 1),\n",
              " ('decepção', 1),\n",
              " ('sofreu', 1),\n",
              " ('sack', 1),\n",
              " ('conseguindo', 1),\n",
              " ('ltima', 1),\n",
              " ('marcar', 1),\n",
              " ('antes', 1),\n",
              " ('intervalo', 1),\n",
              " ('segundo', 1),\n",
              " ('sacado', 1),\n",
              " ('tomaram', 1),\n",
              " ('longo', 1),\n",
              " ('ltimos', 1),\n",
              " ('sucesso', 1),\n",
              " ('continuou', 1),\n",
              " ('amarrado', 1),\n",
              " ('terceiro', 1),\n",
              " ('quarto', 1),\n",
              " ('defesas', 1),\n",
              " ('levando', 1),\n",
              " ('melhor', 1),\n",
              " ('sobre', 1),\n",
              " ('ataques', 1),\n",
              " ('nica', 1),\n",
              " ('técnico', 1),\n",
              " ('bill', 1),\n",
              " ('bellichick', 1),\n",
              " ('optou', 1),\n",
              " ('quarta', 1),\n",
              " ('descida', 1),\n",
              " ('jabar', 1),\n",
              " ('gaffney', 1),\n",
              " ('completar', 1),\n",
              " ('ltimo', 1),\n",
              " ('começou', 1),\n",
              " ('arrasador', 1),\n",
              " ('tight', 1),\n",
              " ('boss', 1),\n",
              " ('deixou', 1),\n",
              " ('outro', 1),\n",
              " ('lançamento', 1),\n",
              " ('marcou', 1),\n",
              " ('duas', 1),\n",
              " ('david', 1),\n",
              " ('tyree', 1),\n",
              " ('pegou', 1),\n",
              " ('cinco', 1),\n",
              " ('anotar', 1),\n",
              " ('virar', 1),\n",
              " ('hora', 1),\n",
              " ('decisão', 1),\n",
              " ('funcionar', 1),\n",
              " ('série', 1),\n",
              " ('variados', 1),\n",
              " ('wes', 1),\n",
              " ('welker', 1),\n",
              " ('randy', 1),\n",
              " ('faulk', 1),\n",
              " ('seguidas', 1),\n",
              " ('vezes', 1),\n",
              " ('chegar', 1),\n",
              " ('m45s', 1),\n",
              " ('quarterback', 1),\n",
              " ('conectou', 1),\n",
              " ('desmarcou', 1),\n",
              " ('ficou', 1),\n",
              " ('livre', 1),\n",
              " ('lateral', 1),\n",
              " ('direita', 1),\n",
              " ('fãs', 1),\n",
              " ('comemoravam', 1),\n",
              " ('inesperado', 1),\n",
              " ('aconteceu', 1),\n",
              " ('marcadores', 1),\n",
              " ('seguravam', 1),\n",
              " ('camisa', 1),\n",
              " ('corrida', 1),\n",
              " ('lançou', 1),\n",
              " ('wide', 1),\n",
              " ('receiver', 1),\n",
              " ('bem', 1),\n",
              " ('marcado', 1),\n",
              " ('saltou', 1),\n",
              " ('recepção', 1),\n",
              " ('quatro', 1),\n",
              " ('conseguir', 1)]"
            ]
          },
          "metadata": {},
          "execution_count": 52
        }
      ]
    },
    {
      "cell_type": "code",
      "metadata": {
        "id": "HIj3ayJWdHBc"
      },
      "source": [
        ""
      ],
      "execution_count": null,
      "outputs": []
    }
  ]
}