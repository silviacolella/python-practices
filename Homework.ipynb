{
 "cells": [
  {
   "cell_type": "markdown",
   "id": "7a8f100e",
   "metadata": {},
   "source": [
    "# Law of Large Numbers\n",
    "\n",
    "Test the Law Of Large Numbers for N random normally distributed numbers with mean = 0, stdev = 1:\n",
    "\n",
    "Create a Python script that will count how many of these numbers fall between -1 and 1 and divide by the total quantity of N \n",
    "\n",
    "You know that E(X) = 68.2%\n",
    "\n",
    "Check that Mean(XN) -> E(X) as you rerun your script while increasing N"
   ]
  },
  {
   "cell_type": "code",
   "execution_count": 1,
   "id": "0a6ffd4c",
   "metadata": {},
   "outputs": [],
   "source": [
    "import numpy as np\n",
    "from numpy.random import randn"
   ]
  },
  {
   "cell_type": "code",
   "execution_count": 18,
   "id": "6f8a8668",
   "metadata": {},
   "outputs": [],
   "source": [
    "N = 100000"
   ]
  },
  {
   "cell_type": "code",
   "execution_count": 20,
   "id": "de19c65d",
   "metadata": {},
   "outputs": [
    {
     "name": "stdout",
     "output_type": "stream",
     "text": [
      "N: 100000\n",
      "counter:  68240\n",
      "result:  0.6824\n"
     ]
    }
   ],
   "source": [
    "counter = 0\n",
    "\n",
    "for i in randn(N):\n",
    "    if ((i > -1) and (i < 1)):\n",
    "        counter += 1\n",
    "        \n",
    "result = counter / N\n",
    "\n",
    "print (\"N:\",N)\n",
    "print (\"counter: \",counter)\n",
    "print (\"result: \",result)"
   ]
  },
  {
   "cell_type": "code",
   "execution_count": null,
   "id": "969bcfe0",
   "metadata": {},
   "outputs": [],
   "source": []
  },
  {
   "cell_type": "code",
   "execution_count": null,
   "id": "72e81e96",
   "metadata": {},
   "outputs": [],
   "source": []
  }
 ],
 "metadata": {
  "kernelspec": {
   "display_name": "Python 3",
   "language": "python",
   "name": "python3"
  },
  "language_info": {
   "codemirror_mode": {
    "name": "ipython",
    "version": 3
   },
   "file_extension": ".py",
   "mimetype": "text/x-python",
   "name": "python",
   "nbconvert_exporter": "python",
   "pygments_lexer": "ipython3",
   "version": "3.6.8"
  }
 },
 "nbformat": 4,
 "nbformat_minor": 5
}
