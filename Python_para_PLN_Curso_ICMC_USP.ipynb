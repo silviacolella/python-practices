{
  "nbformat": 4,
  "nbformat_minor": 0,
  "metadata": {
    "colab": {
      "name": "Python para PLN - Curso ICMC USP.ipynb",
      "provenance": [],
      "mount_file_id": "1e20GC11gX7gFaLbIh2QqPWJ_8WLoRAt4",
      "authorship_tag": "ABX9TyPPfKGqT1M6kjxf7CoStd30",
      "include_colab_link": true
    },
    "kernelspec": {
      "name": "python3",
      "display_name": "Python 3"
    },
    "language_info": {
      "name": "python"
    }
  },
  "cells": [
    {
      "cell_type": "markdown",
      "metadata": {
        "id": "view-in-github",
        "colab_type": "text"
      },
      "source": [
        "<a href=\"https://colab.research.google.com/github/silviacolella/python-practices/blob/main/Python_para_PLN_Curso_ICMC_USP.ipynb\" target=\"_parent\"><img src=\"https://colab.research.google.com/assets/colab-badge.svg\" alt=\"Open In Colab\"/></a>"
      ]
    },
    {
      "cell_type": "markdown",
      "metadata": {
        "id": "w9IndiWmWh42"
      },
      "source": [
        "# Curso: Python para Processamento de Linguagem Natural - ICMC USP\n",
        "\n",
        "Link para o curso: https://cursosextensao.usp.br/course/view.php?id=2721"
      ]
    },
    {
      "cell_type": "markdown",
      "metadata": {
        "id": "CjruNf5DYJeo"
      },
      "source": [
        "## Lista de Exercícios 01"
      ]
    },
    {
      "cell_type": "markdown",
      "metadata": {
        "id": "ik75FZmiYffp"
      },
      "source": [
        "### Exercício 01: Crie três variáveis e atribua os valores a seguir: a=1, b=5.9 e c=‘teste’. A partir disso, retorne o tipo de cada uma das variáveis."
      ]
    },
    {
      "cell_type": "code",
      "metadata": {
        "colab": {
          "base_uri": "https://localhost:8080/"
        },
        "id": "apr9YqUxVVg6",
        "outputId": "7aaac405-2496-4c24-8f16-4cf8889be013"
      },
      "source": [
        "a = 1\n",
        "b = 5.9\n",
        "c = 'teste'\n",
        "\n",
        "print(\"O tipo de a:\", type(a))\n",
        "print(\"O tipo de b:\", type(b))\n",
        "print(\"O tipo de c:\", type(c))"
      ],
      "execution_count": 3,
      "outputs": [
        {
          "output_type": "stream",
          "name": "stdout",
          "text": [
            "O tipo de a: <class 'int'>\n",
            "O tipo de b: <class 'float'>\n",
            "O tipo de c: <class 'str'>\n"
          ]
        }
      ]
    },
    {
      "cell_type": "markdown",
      "metadata": {
        "id": "1o6Fl39Day5p"
      },
      "source": [
        "###Exercício 02: Troque o valor da variável a por ‘1’ e verifique se o tipo da variável mudou."
      ]
    },
    {
      "cell_type": "code",
      "metadata": {
        "colab": {
          "base_uri": "https://localhost:8080/"
        },
        "id": "Rdiqdt1QapN1",
        "outputId": "d56d1c4f-14c8-4720-dfdf-cacc07588946"
      },
      "source": [
        "a = '1'\n",
        "\n",
        "print(\"O tipo de a:\", type(a))"
      ],
      "execution_count": 4,
      "outputs": [
        {
          "output_type": "stream",
          "name": "stdout",
          "text": [
            "O tipo de a: <class 'str'>\n"
          ]
        }
      ]
    },
    {
      "cell_type": "markdown",
      "metadata": {
        "id": "9IOzfaFAbA-f"
      },
      "source": [
        "###Exercício 03: Faça a soma da variável b com a variável c. Interprete a saída, tanto em caso de execução correta quanto em caso de execução com erro."
      ]
    },
    {
      "cell_type": "code",
      "metadata": {
        "colab": {
          "base_uri": "https://localhost:8080/",
          "height": 167
        },
        "id": "RtVbyTKYa-Ys",
        "outputId": "ed0b0384-8937-4b3b-e822-c23dcb5f434d"
      },
      "source": [
        "b + c"
      ],
      "execution_count": 5,
      "outputs": [
        {
          "output_type": "error",
          "ename": "TypeError",
          "evalue": "ignored",
          "traceback": [
            "\u001b[0;31m---------------------------------------------------------------------------\u001b[0m",
            "\u001b[0;31mTypeError\u001b[0m                                 Traceback (most recent call last)",
            "\u001b[0;32m<ipython-input-5-32e611a3909a>\u001b[0m in \u001b[0;36m<module>\u001b[0;34m()\u001b[0m\n\u001b[0;32m----> 1\u001b[0;31m \u001b[0mb\u001b[0m \u001b[0;34m+\u001b[0m \u001b[0mc\u001b[0m\u001b[0;34m\u001b[0m\u001b[0;34m\u001b[0m\u001b[0m\n\u001b[0m",
            "\u001b[0;31mTypeError\u001b[0m: unsupported operand type(s) for +: 'float' and 'str'"
          ]
        }
      ]
    },
    {
      "cell_type": "markdown",
      "metadata": {
        "id": "tzia0BoFbduo"
      },
      "source": [
        "O tipo b é float, o tipo c é string - a linguagem Python não consegue somar ou concatenar dois tipos diferentes"
      ]
    },
    {
      "cell_type": "markdown",
      "metadata": {
        "id": "LN62we9Gbp6S"
      },
      "source": [
        "###Exercício 04: Crie uma lista com números de 0 a 9 (em qualquer ordem). Com ela, faça:\n",
        "- Adicione o número 6\n",
        "- Insira o número 7 na 3ª posição da lista\n",
        "- Remova o elemento 3 da lista\n",
        "- Adicione o número 4\n",
        "- Verifique o número de ocorrências do número 4 na lista"
      ]
    },
    {
      "cell_type": "code",
      "metadata": {
        "colab": {
          "base_uri": "https://localhost:8080/"
        },
        "id": "MunWiSOBbcfk",
        "outputId": "f7ada017-a1db-4416-824a-3ea31114e854"
      },
      "source": [
        "minha_lista = list(range(10))\n",
        "minha_lista"
      ],
      "execution_count": 6,
      "outputs": [
        {
          "output_type": "execute_result",
          "data": {
            "text/plain": [
              "[0, 1, 2, 3, 4, 5, 6, 7, 8, 9]"
            ]
          },
          "metadata": {},
          "execution_count": 6
        }
      ]
    },
    {
      "cell_type": "code",
      "metadata": {
        "colab": {
          "base_uri": "https://localhost:8080/"
        },
        "id": "VpXSpB60b7Q3",
        "outputId": "bf132b8f-aae9-4feb-d391-70a35f5425a0"
      },
      "source": [
        "minha_lista.append(6)\n",
        "minha_lista"
      ],
      "execution_count": 7,
      "outputs": [
        {
          "output_type": "execute_result",
          "data": {
            "text/plain": [
              "[0, 1, 2, 3, 4, 5, 6, 7, 8, 9, 6]"
            ]
          },
          "metadata": {},
          "execution_count": 7
        }
      ]
    },
    {
      "cell_type": "code",
      "metadata": {
        "colab": {
          "base_uri": "https://localhost:8080/"
        },
        "id": "B6fFaqIVcICl",
        "outputId": "37baf94f-9acf-4b53-c5d1-114504df1a9c"
      },
      "source": [
        "minha_lista[2] = 7\n",
        "minha_lista"
      ],
      "execution_count": 8,
      "outputs": [
        {
          "output_type": "execute_result",
          "data": {
            "text/plain": [
              "[0, 1, 7, 3, 4, 5, 6, 7, 8, 9, 6]"
            ]
          },
          "metadata": {},
          "execution_count": 8
        }
      ]
    },
    {
      "cell_type": "code",
      "metadata": {
        "colab": {
          "base_uri": "https://localhost:8080/"
        },
        "id": "gzXfNFGVcMXt",
        "outputId": "18242572-df98-4f3c-e89e-348a4a0e392c"
      },
      "source": [
        "minha_lista.remove(3)\n",
        "minha_lista"
      ],
      "execution_count": 9,
      "outputs": [
        {
          "output_type": "execute_result",
          "data": {
            "text/plain": [
              "[0, 1, 7, 4, 5, 6, 7, 8, 9, 6]"
            ]
          },
          "metadata": {},
          "execution_count": 9
        }
      ]
    },
    {
      "cell_type": "code",
      "metadata": {
        "colab": {
          "base_uri": "https://localhost:8080/"
        },
        "id": "_p0Vz30TcUEb",
        "outputId": "cb45a7dc-b5fd-47c4-9625-4221175d6e8a"
      },
      "source": [
        "minha_lista.append(4)\n",
        "minha_lista"
      ],
      "execution_count": 10,
      "outputs": [
        {
          "output_type": "execute_result",
          "data": {
            "text/plain": [
              "[0, 1, 7, 4, 5, 6, 7, 8, 9, 6, 4]"
            ]
          },
          "metadata": {},
          "execution_count": 10
        }
      ]
    },
    {
      "cell_type": "code",
      "metadata": {
        "colab": {
          "base_uri": "https://localhost:8080/"
        },
        "id": "t_qefcSrcadV",
        "outputId": "603145f3-6ada-4458-8a8f-723e860c4a5b"
      },
      "source": [
        "minha_lista.count(4)"
      ],
      "execution_count": 11,
      "outputs": [
        {
          "output_type": "execute_result",
          "data": {
            "text/plain": [
              "2"
            ]
          },
          "metadata": {},
          "execution_count": 11
        }
      ]
    },
    {
      "cell_type": "markdown",
      "metadata": {
        "id": "hhjSQ5f0ciLK"
      },
      "source": [
        "###Exercício 05: Ainda com a lista criada na questão anterior, faça:\n",
        "- Retorne os primeiros 3 elementos da lista\n",
        "- Retorne os elementos que estão da 3ª posição até a 7ª posição da lista\n",
        "- Retorne os elementos da lista de 3 em 3 elementos\n",
        "- Retorne os 3 últimos elementos da lista\n",
        "- Retorne todos os elementos menos os 4 últimos da lista"
      ]
    },
    {
      "cell_type": "code",
      "metadata": {
        "colab": {
          "base_uri": "https://localhost:8080/"
        },
        "id": "pGGVkD6wchLN",
        "outputId": "3fc13303-3b46-4de2-92ad-aa4ffa679b1f"
      },
      "source": [
        "minha_lista[:3]"
      ],
      "execution_count": 12,
      "outputs": [
        {
          "output_type": "execute_result",
          "data": {
            "text/plain": [
              "[0, 1, 7]"
            ]
          },
          "metadata": {},
          "execution_count": 12
        }
      ]
    },
    {
      "cell_type": "code",
      "metadata": {
        "colab": {
          "base_uri": "https://localhost:8080/"
        },
        "id": "TFf-C6b7cxop",
        "outputId": "24451e5b-5609-473a-90e3-eb4f3b21c3e3"
      },
      "source": [
        "minha_lista[2:7]"
      ],
      "execution_count": 14,
      "outputs": [
        {
          "output_type": "execute_result",
          "data": {
            "text/plain": [
              "[7, 4, 5, 6, 7]"
            ]
          },
          "metadata": {},
          "execution_count": 14
        }
      ]
    },
    {
      "cell_type": "code",
      "metadata": {
        "colab": {
          "base_uri": "https://localhost:8080/"
        },
        "id": "prHSnc8cc4Rs",
        "outputId": "ca7f1c70-7514-4745-d963-5fe50808130c"
      },
      "source": [
        "minha_lista[::3]"
      ],
      "execution_count": 15,
      "outputs": [
        {
          "output_type": "execute_result",
          "data": {
            "text/plain": [
              "[0, 4, 7, 6]"
            ]
          },
          "metadata": {},
          "execution_count": 15
        }
      ]
    },
    {
      "cell_type": "code",
      "metadata": {
        "colab": {
          "base_uri": "https://localhost:8080/"
        },
        "id": "6swJx2iFdGqD",
        "outputId": "e59c43e0-aa25-4f12-96b8-6bcd619fce99"
      },
      "source": [
        "minha_lista[-3:]"
      ],
      "execution_count": 17,
      "outputs": [
        {
          "output_type": "execute_result",
          "data": {
            "text/plain": [
              "[9, 6, 4]"
            ]
          },
          "metadata": {},
          "execution_count": 17
        }
      ]
    },
    {
      "cell_type": "code",
      "metadata": {
        "colab": {
          "base_uri": "https://localhost:8080/"
        },
        "id": "nZtDpGJ8dRGK",
        "outputId": "289cca41-6fea-4fb5-b22a-be2549fc4208"
      },
      "source": [
        "minha_lista[:-4]"
      ],
      "execution_count": 18,
      "outputs": [
        {
          "output_type": "execute_result",
          "data": {
            "text/plain": [
              "[0, 1, 7, 4, 5, 6, 7]"
            ]
          },
          "metadata": {},
          "execution_count": 18
        }
      ]
    },
    {
      "cell_type": "markdown",
      "metadata": {
        "id": "Yc_dFiG4dj0a"
      },
      "source": [
        "###Exercício 06: Com a lista das questões anteriores, retorne o 6º elemento da lista."
      ]
    },
    {
      "cell_type": "code",
      "metadata": {
        "colab": {
          "base_uri": "https://localhost:8080/"
        },
        "id": "JX2rkAVbdeSR",
        "outputId": "c47f3beb-6d9d-44d6-fd33-aee828b0be5d"
      },
      "source": [
        "minha_lista[5]"
      ],
      "execution_count": 19,
      "outputs": [
        {
          "output_type": "execute_result",
          "data": {
            "text/plain": [
              "6"
            ]
          },
          "metadata": {},
          "execution_count": 19
        }
      ]
    },
    {
      "cell_type": "markdown",
      "metadata": {
        "id": "8vxRoL2pdzib"
      },
      "source": [
        "###Exercício 07: Altere o valor do 7º elemento da lista para o valor 12."
      ]
    },
    {
      "cell_type": "code",
      "metadata": {
        "colab": {
          "base_uri": "https://localhost:8080/"
        },
        "id": "MEzz4FG1dsJx",
        "outputId": "19eaeb46-599f-44eb-f7d4-8f1aa1223c67"
      },
      "source": [
        "minha_lista[6] = 12\n",
        "minha_lista"
      ],
      "execution_count": 20,
      "outputs": [
        {
          "output_type": "execute_result",
          "data": {
            "text/plain": [
              "[0, 1, 7, 4, 5, 6, 12, 8, 9, 6, 4]"
            ]
          },
          "metadata": {},
          "execution_count": 20
        }
      ]
    },
    {
      "cell_type": "markdown",
      "metadata": {
        "id": "cKatV00Td_F-"
      },
      "source": [
        "###Exercício 08: Inverta a ordem dos elementos na lista."
      ]
    },
    {
      "cell_type": "code",
      "metadata": {
        "colab": {
          "base_uri": "https://localhost:8080/"
        },
        "id": "GjfHqKpkd7C1",
        "outputId": "82452846-5aec-4a71-d698-57bbd9aafe4a"
      },
      "source": [
        "minha_lista.reverse()\n",
        "minha_lista"
      ],
      "execution_count": 23,
      "outputs": [
        {
          "output_type": "execute_result",
          "data": {
            "text/plain": [
              "[4, 6, 9, 8, 12, 6, 5, 4, 7, 1, 0]"
            ]
          },
          "metadata": {},
          "execution_count": 23
        }
      ]
    },
    {
      "cell_type": "markdown",
      "metadata": {
        "id": "nP7NzFITeJ0s"
      },
      "source": [
        "###Exercicio 09: Ordene a lista."
      ]
    },
    {
      "cell_type": "code",
      "metadata": {
        "colab": {
          "base_uri": "https://localhost:8080/"
        },
        "id": "pEx9l70PeF1Z",
        "outputId": "040a526c-4d48-4270-b885-8857de2f335c"
      },
      "source": [
        "minha_lista.sort()\n",
        "minha_lista"
      ],
      "execution_count": 25,
      "outputs": [
        {
          "output_type": "execute_result",
          "data": {
            "text/plain": [
              "[0, 1, 4, 4, 5, 6, 6, 7, 8, 9, 12]"
            ]
          },
          "metadata": {},
          "execution_count": 25
        }
      ]
    },
    {
      "cell_type": "markdown",
      "metadata": {
        "id": "Z88oUnuoeTrl"
      },
      "source": [
        "###Exercício 10: Crie uma tupla com números de 0 a 9 (em qualquer ordem) e tente:\n",
        "- Alterar o valor do 3º elemento da tupla para o valor 10\n",
        "- Verificar o índice (posição) do valor 5 na tupla"
      ]
    },
    {
      "cell_type": "code",
      "metadata": {
        "colab": {
          "base_uri": "https://localhost:8080/"
        },
        "id": "P_sAjHRceRDn",
        "outputId": "d41d03f4-f53c-40d1-a513-d94f438e8118"
      },
      "source": [
        "minha_tupla = (0,2,4,6,8,1,3,5,7,9)\n",
        "minha_tupla"
      ],
      "execution_count": 30,
      "outputs": [
        {
          "output_type": "execute_result",
          "data": {
            "text/plain": [
              "(0, 2, 4, 6, 8, 1, 3, 5, 7, 9)"
            ]
          },
          "metadata": {},
          "execution_count": 30
        }
      ]
    },
    {
      "cell_type": "code",
      "metadata": {
        "colab": {
          "base_uri": "https://localhost:8080/",
          "height": 167
        },
        "id": "-5LqyB9Mejdh",
        "outputId": "cf8a983a-0537-4dbd-fc8a-d3f11eff64ae"
      },
      "source": [
        "minha_tupla[2] = 10"
      ],
      "execution_count": 31,
      "outputs": [
        {
          "output_type": "error",
          "ename": "TypeError",
          "evalue": "ignored",
          "traceback": [
            "\u001b[0;31m---------------------------------------------------------------------------\u001b[0m",
            "\u001b[0;31mTypeError\u001b[0m                                 Traceback (most recent call last)",
            "\u001b[0;32m<ipython-input-31-2da3cd600dbd>\u001b[0m in \u001b[0;36m<module>\u001b[0;34m()\u001b[0m\n\u001b[0;32m----> 1\u001b[0;31m \u001b[0mminha_tupla\u001b[0m\u001b[0;34m[\u001b[0m\u001b[0;36m2\u001b[0m\u001b[0;34m]\u001b[0m \u001b[0;34m=\u001b[0m \u001b[0;36m10\u001b[0m\u001b[0;34m\u001b[0m\u001b[0;34m\u001b[0m\u001b[0m\n\u001b[0m",
            "\u001b[0;31mTypeError\u001b[0m: 'tuple' object does not support item assignment"
          ]
        }
      ]
    },
    {
      "cell_type": "markdown",
      "metadata": {
        "id": "pjZtCRduevzU"
      },
      "source": [
        "Tuplas são imutáveis, então não foi possível alterar o valor"
      ]
    },
    {
      "cell_type": "code",
      "metadata": {
        "colab": {
          "base_uri": "https://localhost:8080/"
        },
        "id": "N7ki5_yseulv",
        "outputId": "147a8c2e-1e3b-416a-baec-119abbf3315b"
      },
      "source": [
        "minha_tupla.index(5)"
      ],
      "execution_count": 32,
      "outputs": [
        {
          "output_type": "execute_result",
          "data": {
            "text/plain": [
              "7"
            ]
          },
          "metadata": {},
          "execution_count": 32
        }
      ]
    },
    {
      "cell_type": "markdown",
      "metadata": {
        "id": "Mkf2pedEfGVX"
      },
      "source": [
        "###Exercício 11: Crie um dicionário com 5 entradas e suas respectivas chaves e valores. Faça:\n",
        "- Imprima todas as chaves do dicionário\n",
        "- Imprima todos os valores do dicionário\n",
        "- Imprima todos os itens do dicionário\n",
        "- Imprima o 2º item do dicionário\n",
        "- Imprima o dicionário completo\n",
        "- Percorra o dicionário, imprimindo para cada entrada o modelo “(chave)\n",
        "tem como valor (valor)”"
      ]
    },
    {
      "cell_type": "code",
      "metadata": {
        "colab": {
          "base_uri": "https://localhost:8080/"
        },
        "id": "pmScTyo_e3hH",
        "outputId": "c55b62dd-47a6-430a-b054-d85bc70a340c"
      },
      "source": [
        "meu_dicionario = {'a':1,'b':2,'c':3,'d':4,'e':5}\n",
        "meu_dicionario"
      ],
      "execution_count": 34,
      "outputs": [
        {
          "output_type": "execute_result",
          "data": {
            "text/plain": [
              "{'a': 1, 'b': 2, 'c': 3, 'd': 4, 'e': 5}"
            ]
          },
          "metadata": {},
          "execution_count": 34
        }
      ]
    },
    {
      "cell_type": "code",
      "metadata": {
        "colab": {
          "base_uri": "https://localhost:8080/"
        },
        "id": "cfZwOtLWfYEO",
        "outputId": "dbb317b0-530b-4c2e-c11d-75349bd73412"
      },
      "source": [
        "meu_dicionario.keys()"
      ],
      "execution_count": 36,
      "outputs": [
        {
          "output_type": "execute_result",
          "data": {
            "text/plain": [
              "dict_keys(['a', 'b', 'c', 'd', 'e'])"
            ]
          },
          "metadata": {},
          "execution_count": 36
        }
      ]
    },
    {
      "cell_type": "code",
      "metadata": {
        "colab": {
          "base_uri": "https://localhost:8080/"
        },
        "id": "4aFOnAzSfgLa",
        "outputId": "0c60e9fa-e384-4a84-b6ec-9c91c5b36553"
      },
      "source": [
        "meu_dicionario.values()"
      ],
      "execution_count": 37,
      "outputs": [
        {
          "output_type": "execute_result",
          "data": {
            "text/plain": [
              "dict_values([1, 2, 3, 4, 5])"
            ]
          },
          "metadata": {},
          "execution_count": 37
        }
      ]
    },
    {
      "cell_type": "code",
      "metadata": {
        "colab": {
          "base_uri": "https://localhost:8080/"
        },
        "id": "H3iN5L26fjDD",
        "outputId": "ca992b3b-300c-4f84-cf38-401eed6904fd"
      },
      "source": [
        "meu_dicionario.items()"
      ],
      "execution_count": 38,
      "outputs": [
        {
          "output_type": "execute_result",
          "data": {
            "text/plain": [
              "dict_items([('a', 1), ('b', 2), ('c', 3), ('d', 4), ('e', 5)])"
            ]
          },
          "metadata": {},
          "execution_count": 38
        }
      ]
    },
    {
      "cell_type": "code",
      "metadata": {
        "colab": {
          "base_uri": "https://localhost:8080/"
        },
        "id": "_3AVsAqHfl50",
        "outputId": "1dc8a67e-5b72-417e-d4f5-5ffe1dca150b"
      },
      "source": [
        "list(meu_dicionario.items())[1]"
      ],
      "execution_count": 41,
      "outputs": [
        {
          "output_type": "execute_result",
          "data": {
            "text/plain": [
              "('b', 2)"
            ]
          },
          "metadata": {},
          "execution_count": 41
        }
      ]
    },
    {
      "cell_type": "code",
      "metadata": {
        "colab": {
          "base_uri": "https://localhost:8080/"
        },
        "id": "ilw0L4YBf6oz",
        "outputId": "7373684c-85e3-4f80-84fb-85e5b11ca0b4"
      },
      "source": [
        "meu_dicionario"
      ],
      "execution_count": 42,
      "outputs": [
        {
          "output_type": "execute_result",
          "data": {
            "text/plain": [
              "{'a': 1, 'b': 2, 'c': 3, 'd': 4, 'e': 5}"
            ]
          },
          "metadata": {},
          "execution_count": 42
        }
      ]
    },
    {
      "cell_type": "code",
      "metadata": {
        "colab": {
          "base_uri": "https://localhost:8080/"
        },
        "id": "rDFGmIELgbrA",
        "outputId": "562bc84b-f62c-408b-b540-90d8401140b6"
      },
      "source": [
        "for i,v in meu_dicionario.items():\n",
        "  print(i,\"tem como valor\",v)"
      ],
      "execution_count": 44,
      "outputs": [
        {
          "output_type": "stream",
          "name": "stdout",
          "text": [
            "a tem como valor 1\n",
            "b tem como valor 2\n",
            "c tem como valor 3\n",
            "d tem como valor 4\n",
            "e tem como valor 5\n"
          ]
        }
      ]
    },
    {
      "cell_type": "markdown",
      "metadata": {
        "id": "iwMIywf2gkSz"
      },
      "source": [
        "###Exercício 12: Crie um arquivo e:\n",
        "- Escreva nele os números de 1 a 10\n",
        "- Depois de escrito, imprima na tela todos os números do arquivo\n",
        "- Escreva no arquivo os números de 11 a 20, substituindo os números que\n",
        "estavam antes no arquivo\n",
        "- Escreva no arquivo os números de 21 a 30, adicionando os números no\n",
        "final do arquivo (sem apagar o que já estavam lá)\n",
        "- Imprima na tela todos os números do arquivo novamente (de 11 a 30)\n",
        "- Imprima na tela todos os números do arquivo novamente, mas agora linha por linha"
      ]
    },
    {
      "cell_type": "code",
      "metadata": {
        "id": "ze75iyO3ggvO"
      },
      "source": [
        "meu_arquivo = open(\"/content/drive/MyDrive/USP/Curso Python para PLN/novo_arquivo.txt\",'w')"
      ],
      "execution_count": 51,
      "outputs": []
    },
    {
      "cell_type": "code",
      "metadata": {
        "id": "0sXxeTzYjIgn"
      },
      "source": [
        "for i in range(1,11):\n",
        "  meu_arquivo.write(str(i)+'\\n')"
      ],
      "execution_count": 47,
      "outputs": []
    },
    {
      "cell_type": "code",
      "metadata": {
        "id": "4w32N3xdjoh2"
      },
      "source": [
        "meu_arquivo.close()"
      ],
      "execution_count": 52,
      "outputs": []
    },
    {
      "cell_type": "code",
      "metadata": {
        "colab": {
          "base_uri": "https://localhost:8080/"
        },
        "id": "1TKR_5Ynj_bi",
        "outputId": "f82878ab-a9ac-4ff8-e778-3637446e8581"
      },
      "source": [
        "meu_arquivo_v2 = open(\"/content/drive/MyDrive/USP/Curso Python para PLN/novo_arquivo.txt\",'r')\n",
        "conteudo = meu_arquivo_v2.read()\n",
        "meu_arquivo_v2.close()\n",
        "print(conteudo)"
      ],
      "execution_count": 54,
      "outputs": [
        {
          "output_type": "stream",
          "name": "stdout",
          "text": [
            "1\n",
            "2\n",
            "3\n",
            "4\n",
            "5\n",
            "6\n",
            "7\n",
            "8\n",
            "9\n",
            "10\n",
            "\n"
          ]
        }
      ]
    },
    {
      "cell_type": "code",
      "metadata": {
        "id": "6MqVDVkek5ip"
      },
      "source": [
        "meu_arquivo_v3 = open(\"/content/drive/MyDrive/USP/Curso Python para PLN/novo_arquivo.txt\",'w')\n",
        "\n",
        "for i in range(11,21):\n",
        "  meu_arquivo_v3.write(str(i)+'\\n')\n",
        "\n",
        "meu_arquivo_v3.close()"
      ],
      "execution_count": 56,
      "outputs": []
    },
    {
      "cell_type": "code",
      "metadata": {
        "id": "w4YJDxP2lX-R"
      },
      "source": [
        "meu_arquivo_v4 = open(\"/content/drive/MyDrive/USP/Curso Python para PLN/novo_arquivo.txt\",'a')\n",
        "\n",
        "for i in range(21,31):\n",
        "  meu_arquivo_v4.write(str(i)+'\\n')\n",
        "\n",
        "meu_arquivo_v4.close()"
      ],
      "execution_count": 58,
      "outputs": []
    },
    {
      "cell_type": "code",
      "metadata": {
        "colab": {
          "base_uri": "https://localhost:8080/"
        },
        "id": "rA85exoGlfQ_",
        "outputId": "c6a2e8dd-e214-4551-cc7a-3b90b33a5e16"
      },
      "source": [
        "meu_arquivo_v5 = open(\"/content/drive/MyDrive/USP/Curso Python para PLN/novo_arquivo.txt\",'r')\n",
        "conteudo = meu_arquivo_v5.read()\n",
        "meu_arquivo_v5.close()\n",
        "print(conteudo)"
      ],
      "execution_count": 60,
      "outputs": [
        {
          "output_type": "stream",
          "name": "stdout",
          "text": [
            "11\n",
            "12\n",
            "13\n",
            "14\n",
            "15\n",
            "16\n",
            "17\n",
            "18\n",
            "19\n",
            "20\n",
            "21\n",
            "22\n",
            "23\n",
            "24\n",
            "25\n",
            "26\n",
            "27\n",
            "28\n",
            "29\n",
            "30\n",
            "\n"
          ]
        }
      ]
    },
    {
      "cell_type": "code",
      "metadata": {
        "id": "HKXQKGOTlhvb"
      },
      "source": [
        ""
      ],
      "execution_count": null,
      "outputs": []
    }
  ]
}