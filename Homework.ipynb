{
 "cells": [
  {
   "cell_type": "markdown",
   "id": "7a8f100e",
   "metadata": {},
   "source": [
    "# Law of Large Numbers\n",
    "\n",
    "Test the Law Of Large Numbers for N random normally distributed numbers with mean = 0, stdev = 1:\n",
    "\n",
    "Create a Python script that will count how many of these numbers fall between -1 and 1 and divide by the total quantity of N \n",
    "\n",
    "You know that E(X) = 68.2%\n",
    "\n",
    "Check that Mean(XN) -> E(X) as you rerun your script while increasing N"
   ]
  },
  {
   "cell_type": "code",
   "execution_count": 1,
   "id": "0a6ffd4c",
   "metadata": {},
   "outputs": [],
   "source": [
    "import numpy as np\n",
    "from numpy.random import randn"
   ]
  },
  {
   "cell_type": "code",
   "execution_count": 18,
   "id": "6f8a8668",
   "metadata": {},
   "outputs": [],
   "source": [
    "N = 100000"
   ]
  },
  {
   "cell_type": "code",
   "execution_count": 20,
   "id": "de19c65d",
   "metadata": {},
   "outputs": [
    {
     "name": "stdout",
     "output_type": "stream",
     "text": [
      "N: 100000\n",
      "counter:  68240\n",
      "result:  0.6824\n"
     ]
    }
   ],
   "source": [
    "counter = 0\n",
    "\n",
    "for i in randn(N):\n",
    "    if ((i > -1) and (i < 1)):\n",
    "        counter += 1\n",
    "        \n",
    "result = counter / N\n",
    "\n",
    "print (\"N:\",N)\n",
    "print (\"counter: \",counter)\n",
    "print (\"result: \",result)"
   ]
  },
  {
   "cell_type": "markdown",
   "id": "7ac1bf02",
   "metadata": {},
   "source": [
    "---"
   ]
  },
  {
   "cell_type": "markdown",
   "id": "83c99d4d",
   "metadata": {},
   "source": [
    "# Financial Statement Analysis\n",
    "\n",
    "Scenario: You are a Data Scientist working for a consulting firm. One of your colleagues from the Auditing department has asked you to help them assess the financial statement of organisation X.\n",
    "\n",
    "You have been supplied with two lists of data: monthly revenue and monthly ex-penses for the financial year in question. Your task is to calculate the following financial metrics:\n",
    "- profit for each month\n",
    "- profit after tax for each month (the tax rate is 30%)\n",
    "- profit margin for each month - equals to profit after tax divided by revenue\n",
    "- good months - where the profit after tax was greater than the mean for the year\n",
    "- bad months - where the profit after tax was less than the mean for the year\n",
    "- the best month - where the profit after tax was max for the year\n",
    "- the worst month - where the profit after tax was min for the year"
   ]
  },
  {
   "cell_type": "code",
   "execution_count": 18,
   "id": "dc2f623e",
   "metadata": {},
   "outputs": [],
   "source": [
    "import numpy as np"
   ]
  },
  {
   "cell_type": "code",
   "execution_count": 1,
   "id": "600f65b3",
   "metadata": {},
   "outputs": [],
   "source": [
    "#Data \n",
    "revenue = [14574.49, 7606.46, 8611.41, 9175.41, 8058.65, 8105.44, 11496.28, 9766.09, 10305.32, 14379.96, 10713.97, 15433.50]\n",
    "expenses = [12051.82, 5695.07, 12319.20, 12089.72, 8658.57, 840.20, 3285.73, 5821.12, 6976.93, 16618.61, 10054.37, 3803.96]"
   ]
  },
  {
   "cell_type": "code",
   "execution_count": 3,
   "id": "56db8dde",
   "metadata": {},
   "outputs": [
    {
     "name": "stdout",
     "output_type": "stream",
     "text": [
      "12\n",
      "12\n"
     ]
    }
   ],
   "source": [
    "print(len(revenue))\n",
    "print(len(expenses))"
   ]
  },
  {
   "cell_type": "code",
   "execution_count": 11,
   "id": "384959bc",
   "metadata": {},
   "outputs": [
    {
     "data": {
      "text/plain": [
       "[2523, 1911, -3708, -2914, -600, 7265, 8211, 3945, 3328, -2239, 660, 11630]"
      ]
     },
     "execution_count": 11,
     "metadata": {},
     "output_type": "execute_result"
    }
   ],
   "source": [
    "#Profit for each month\n",
    "\n",
    "profit = []\n",
    "\n",
    "for a in range(0,12):\n",
    "    profit.append(round(revenue[a] - expenses[a]))\n",
    "\n",
    "profit"
   ]
  },
  {
   "cell_type": "code",
   "execution_count": 12,
   "id": "92db92e4",
   "metadata": {},
   "outputs": [
    {
     "data": {
      "text/plain": [
       "[1766, 1338, -2595, -2040, -420, 5086, 5747, 2761, 2330, -1567, 462, 8141]"
      ]
     },
     "execution_count": 12,
     "metadata": {},
     "output_type": "execute_result"
    }
   ],
   "source": [
    "#Profit after tax for each month\n",
    "\n",
    "profit_after_tax = []\n",
    "\n",
    "for a in range(0,12):\n",
    "    profit_after_tax.append(round((revenue[a] - expenses[a])*0.7))\n",
    "\n",
    "profit_after_tax"
   ]
  },
  {
   "cell_type": "code",
   "execution_count": 14,
   "id": "647c41e3",
   "metadata": {},
   "outputs": [
    {
     "data": {
      "text/plain": [
       "[0, 0, 0, 0, 0, 1, 0, 0, 0, 0, 0, 1]"
      ]
     },
     "execution_count": 14,
     "metadata": {},
     "output_type": "execute_result"
    }
   ],
   "source": [
    "#Profit margin for each month\n",
    "\n",
    "profit_margin = []\n",
    "\n",
    "for a in range(0,12):\n",
    "    profit_margin.append(round(profit_after_tax[a] / revenue[a]))\n",
    "    \n",
    "profit_margin"
   ]
  },
  {
   "cell_type": "code",
   "execution_count": 23,
   "id": "8e968618",
   "metadata": {},
   "outputs": [
    {
     "name": "stdout",
     "output_type": "stream",
     "text": [
      "mean:  1750.75\n",
      "[1766 5086 5747 2761 2330 8141]\n"
     ]
    }
   ],
   "source": [
    "#Good months\n",
    "\n",
    "mean = sum(profit_after_tax) / len(profit_after_tax)\n",
    "\n",
    "profit_after_tax_array = np.array(profit_after_tax)\n",
    "\n",
    "print(\"mean: \",mean)\n",
    "print(profit_after_tax_array[profit_after_tax_array > mean])"
   ]
  },
  {
   "cell_type": "code",
   "execution_count": 22,
   "id": "dd104fb9",
   "metadata": {},
   "outputs": [
    {
     "name": "stdout",
     "output_type": "stream",
     "text": [
      "[ 1338 -2595 -2040  -420 -1567   462]\n"
     ]
    }
   ],
   "source": [
    "#Bad months\n",
    "\n",
    "print(profit_after_tax_array[profit_after_tax_array < mean])"
   ]
  },
  {
   "cell_type": "code",
   "execution_count": 25,
   "id": "0024c1a3",
   "metadata": {},
   "outputs": [
    {
     "name": "stdout",
     "output_type": "stream",
     "text": [
      "8141\n"
     ]
    }
   ],
   "source": [
    "#The best month\n",
    "\n",
    "print(max(profit_after_tax))"
   ]
  },
  {
   "cell_type": "code",
   "execution_count": 26,
   "id": "b642fe01",
   "metadata": {},
   "outputs": [
    {
     "name": "stdout",
     "output_type": "stream",
     "text": [
      "-2595\n"
     ]
    }
   ],
   "source": [
    "#The worst month\n",
    "\n",
    "print(min(profit_after_tax))"
   ]
  },
  {
   "cell_type": "code",
   "execution_count": null,
   "id": "34cee468",
   "metadata": {},
   "outputs": [],
   "source": []
  }
 ],
 "metadata": {
  "kernelspec": {
   "display_name": "Python 3",
   "language": "python",
   "name": "python3"
  },
  "language_info": {
   "codemirror_mode": {
    "name": "ipython",
    "version": 3
   },
   "file_extension": ".py",
   "mimetype": "text/x-python",
   "name": "python",
   "nbconvert_exporter": "python",
   "pygments_lexer": "ipython3",
   "version": "3.6.8"
  }
 },
 "nbformat": 4,
 "nbformat_minor": 5
}
